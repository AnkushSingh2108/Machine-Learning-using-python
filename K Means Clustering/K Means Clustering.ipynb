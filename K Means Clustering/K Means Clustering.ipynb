{
 "cells": [
  {
   "cell_type": "markdown",
   "id": "61625a96",
   "metadata": {},
   "source": [
    "# K Means Impleentation"
   ]
  },
  {
   "cell_type": "code",
   "execution_count": 1,
   "id": "f39257a9",
   "metadata": {},
   "outputs": [],
   "source": [
    "import numpy as np\n",
    "import matplotlib.pyplot as plt\n",
    "from sklearn.datasets import make_blobs"
   ]
  },
  {
   "cell_type": "markdown",
   "id": "411efc43",
   "metadata": {},
   "source": [
    "# Dataset Preparation"
   ]
  },
  {
   "cell_type": "code",
   "execution_count": 2,
   "id": "541d4696",
   "metadata": {},
   "outputs": [],
   "source": [
    "x,y = make_blobs(n_samples=100, n_features=2, centers=5, random_state=3)"
   ]
  },
  {
   "cell_type": "code",
   "execution_count": 3,
   "id": "7b075514",
   "metadata": {},
   "outputs": [
    {
     "data": {
      "image/png": "[encoded data removed]",
      "text/plain": [
       "<Figure size 432x288 with 1 Axes>"
      ]
     },
     "metadata": {
      "needs_background": "light"
     },
     "output_type": "display_data"
    }
   ],
   "source": [
    "plt.figure(0)\n",
    "plt.grid()\n",
    "plt.scatter(x[:,0], x[:,1])\n",
    "plt.show()"
   ]
  },
  {
   "cell_type": "code",
   "execution_count": 4,
   "id": "21059fc3",
   "metadata": {},
   "outputs": [
    {
     "data": {
      "text/plain": [
       "(100, 2)"
      ]
     },
     "execution_count": 4,
     "metadata": {},
     "output_type": "execute_result"
    }
   ],
   "source": [
    "x.shape"
   ]
  },
  {
   "cell_type": "code",
   "execution_count": 5,
   "id": "cd293761",
   "metadata": {},
   "outputs": [],
   "source": [
    "k = 5\n",
    "\n",
    "color = [\"green\",\"red\",\"blue\",\"yellow\",\"orange\"]\n",
    "\n",
    "clusters = {} # all the clusters\n",
    "\n",
    "for i in range(k):\n",
    "    center = 10*(2*np.random.random((x.shape[1],)))\n",
    "    points = []\n",
    "    cluster = {\n",
    "        'center': center,\n",
    "        'points':points,\n",
    "        'colors': color[i]\n",
    "    } # One Cluster blueprint\n",
    "    \n",
    "    clusters[i] = cluster "
   ]
  },
  {
   "cell_type": "code",
   "execution_count": 6,
   "id": "cf17380f",
   "metadata": {},
   "outputs": [],
   "source": [
    "# center = 10*(2*np.random.random((x.shape[1],))-1)\n",
    "# print(center)"
   ]
  },
  {
   "cell_type": "code",
   "execution_count": 7,
   "id": "d98167df",
   "metadata": {},
   "outputs": [],
   "source": [
    "# clusters"
   ]
  },
  {
   "cell_type": "code",
   "execution_count": 8,
   "id": "51b7b968",
   "metadata": {},
   "outputs": [],
   "source": [
    "def distance(v1,v2):\n",
    "    return np.sqrt(np.sum((v1-v2)**2))"
   ]
  },
  {
   "cell_type": "code",
   "execution_count": 9,
   "id": "1fcb5cac",
   "metadata": {},
   "outputs": [],
   "source": [
    "# v1 = np.array([1,2])\n",
    "# v2 = np.array([3,4])\n",
    "# distance(v1,v2)"
   ]
  },
  {
   "cell_type": "code",
   "execution_count": 10,
   "id": "e5e8a752",
   "metadata": {},
   "outputs": [],
   "source": [
    "# Assign every data point to one of the clusters\n",
    "def assignPointToClusters(clusters):   #E -Step {Expectation Step}\n",
    "    for ix in range(x.shape[0]):\n",
    "        dist = []\n",
    "        current_x = x[ix]\n",
    "        for kx in range(k):\n",
    "            d = distance(current_x,clusters[kx]['center'])\n",
    "            dist.append(d)\n",
    "\n",
    "        current_cluster = np.argmin(dist)\n",
    "        clusters[current_cluster]['points'].append(current_x)\n",
    "\n",
    "def updateClusters(clusters):  # M - Step  {Maximization Step}  -> We update every cluster center according to the mean of the points in it\n",
    "    for kx in range(k):\n",
    "        pts = np.array(clusters[kx]['points'])\n",
    "        if pts.shape[0]>0:    # If a cluster has some non zero points\n",
    "            new_mu = pts.mean(axis=0)\n",
    "            clusters[kx]['center'] = new_mu\n",
    "            clusters[kx]['points'] = [] # Clear the list\n",
    "        \n",
    "        \n",
    "def plotCluster(clusters):\n",
    "    \n",
    "    for kx in range(k):\n",
    "#         print(type(clusters[kx][\"points\"]))\n",
    "#         print(len(clusters[kx][\"points\"]))\n",
    "#         print(clusters[kx][])\n",
    "        pts = np.array(clusters[kx]['points'])\n",
    "        print(pts.shape)\n",
    "        print(pts)\n",
    "        # Plot the points\n",
    "        try:\n",
    "            plt.scatter(pts[:,0],pts[:,1], color = clusters[kx]['color'])\n",
    "        except:\n",
    "            pass\n",
    "        # Plot the cluster center\n",
    "        cluster_center = clusters[kx][\"center\"]\n",
    "        plt.scatter(cluster_center[0], cluster_center[1])"
   ]
  },
  {
   "cell_type": "code",
   "execution_count": 11,
   "id": "b261fe00",
   "metadata": {
    "scrolled": false
   },
   "outputs": [
    {
     "name": "stdout",
     "output_type": "stream",
     "text": [
      "(0,)\n",
      "[]\n",
      "(0,)\n",
      "[]\n",
      "(0,)\n",
      "[]\n",
      "(0,)\n",
      "[]\n",
      "(0,)\n",
      "[]\n"
     ]
    },
    {
     "data": {
      "image/png": "[encoded data removed]",
      "text/plain": [
       "<Figure size 432x288 with 1 Axes>"
      ]
     },
     "metadata": {
      "needs_background": "light"
     },
     "output_type": "display_data"
    }
   ],
   "source": [
    "plotCluster(clusters)"
   ]
  },
  {
   "cell_type": "code",
   "execution_count": 12,
   "id": "37f37972",
   "metadata": {
    "scrolled": false
   },
   "outputs": [
    {
     "name": "stdout",
     "output_type": "stream",
     "text": [
      "(0,)\n",
      "[]\n",
      "(0,)\n",
      "[]\n",
      "(0,)\n",
      "[]\n",
      "(20, 2)\n",
      "[[ 8.50400107  8.23892215]\n",
      " [ 9.09241013  8.07484817]\n",
      " [ 8.08468935  8.21289694]\n",
      " [ 7.26786035  7.40944441]\n",
      " [ 7.77919815  8.4903473 ]\n",
      " [ 7.44274107  8.65051944]\n",
      " [ 7.34229116  7.73679011]\n",
      " [ 7.28423067  7.81640744]\n",
      " [ 4.94320134  6.95402128]\n",
      " [ 7.10560429  6.18175153]\n",
      " [ 7.55873301 10.08401112]\n",
      " [ 6.89894291  8.30315701]\n",
      " [ 7.16897841  8.41227625]\n",
      " [ 7.32835694  7.19533513]\n",
      " [ 8.73322481  6.63232515]\n",
      " [ 8.71045804  8.4121111 ]\n",
      " [ 7.78149813  8.20193028]\n",
      " [ 7.02469924  9.27085424]\n",
      " [ 7.18072641  8.35229685]\n",
      " [ 8.53801069  7.07042461]]\n",
      "(80, 2)\n",
      "[[-3.53874194e+00  4.65638811e-01]\n",
      " [-8.10782384e+00 -1.83223515e+00]\n",
      " [-7.06232704e+00 -6.00415621e+00]\n",
      " [-8.32282614e+00 -1.74417655e+00]\n",
      " [-8.52487498e+00 -1.96651217e+00]\n",
      " [-8.13670468e+00 -6.59260727e+00]\n",
      " [-7.82339114e+00 -1.29403228e+00]\n",
      " [-4.37931990e+00  1.99119714e+00]\n",
      " [-1.10010495e+01 -2.14457824e+00]\n",
      " [-1.69088476e-01  3.95730655e+00]\n",
      " [ 6.59687292e-01  2.41981542e+00]\n",
      " [-7.36028597e+00 -4.61352592e+00]\n",
      " [-7.93170382e+00 -5.52058950e-01]\n",
      " [-9.10001694e+00 -2.80626430e+00]\n",
      " [-7.62891382e+00 -4.85805407e+00]\n",
      " [-1.00412414e+01 -8.12933155e-01]\n",
      " [-8.01355844e+00 -7.53077707e+00]\n",
      " [-9.55915755e+00 -2.73035895e+00]\n",
      " [-3.56782813e+00 -6.21360169e-01]\n",
      " [-8.39478849e+00 -5.76672723e+00]\n",
      " [-9.09841799e+00 -9.35635100e-01]\n",
      " [-4.81218132e+00 -5.92636146e+00]\n",
      " [-6.67347925e+00 -6.37513419e+00]\n",
      " [-4.20600969e+00 -6.72105314e-01]\n",
      " [-6.07327394e-01  4.80963190e+00]\n",
      " [ 9.21660298e-02  3.13908069e+00]\n",
      " [-7.24123850e+00 -4.89750855e-01]\n",
      " [-9.06589353e+00 -1.71099091e+00]\n",
      " [ 1.42075754e-01  4.19267027e+00]\n",
      " [-2.97906702e-01  5.04757883e+00]\n",
      " [-3.74395861e+00  2.15553056e+00]\n",
      " [ 1.89727609e+00  5.87252952e+00]\n",
      " [-8.97495186e+00 -4.44651548e+00]\n",
      " [-6.98216625e+00  1.12552090e-02]\n",
      " [-4.85663273e+00  3.67168969e-01]\n",
      " [-6.65244989e+00 -5.36302353e+00]\n",
      " [ 2.12191957e-01  1.74387328e+00]\n",
      " [ 2.13993601e+00  4.03104222e+00]\n",
      " [-7.48584963e+00 -5.43050672e+00]\n",
      " [-7.74953428e+00 -7.15318907e+00]\n",
      " [-8.98928365e+00 -7.00274340e-01]\n",
      " [-8.70919571e+00 -5.79552700e+00]\n",
      " [-3.07371772e+00  1.33594276e+00]\n",
      " [ 1.06599169e+00  3.75827904e+00]\n",
      " [-6.92958059e+00 -6.33350710e+00]\n",
      " [-7.94555458e+00 -4.99585843e+00]\n",
      " [ 2.50210641e+00  4.39967272e+00]\n",
      " [-9.48178493e+00 -1.30664653e+00]\n",
      " [-4.33641207e+00  1.98617941e+00]\n",
      " [-4.02895952e+00 -8.47643170e-01]\n",
      " [-5.57766872e+00  1.60821501e+00]\n",
      " [-9.40154599e+00 -1.72407339e+00]\n",
      " [-2.28165277e-01  3.53653954e+00]\n",
      " [-4.78479033e+00 -1.69791994e+00]\n",
      " [-7.82708843e-03  3.44996325e+00]\n",
      " [-3.16872178e+00  1.06934994e+00]\n",
      " [-8.35060228e+00 -4.78345851e+00]\n",
      " [-8.20431959e+00 -5.12367670e+00]\n",
      " [-3.69811687e+00  8.92768504e-01]\n",
      " [-4.03684201e+00  1.38443439e+00]\n",
      " [-7.65638389e+00 -3.94586563e+00]\n",
      " [ 1.64120302e+00  4.00244309e+00]\n",
      " [ 1.99832549e+00  3.06188882e+00]\n",
      " [ 2.47121701e-01  3.93292573e+00]\n",
      " [-6.43016299e+00 -5.12097609e-02]\n",
      " [ 9.72139883e-01  3.68573842e+00]\n",
      " [ 4.70598104e-01  2.61647914e+00]\n",
      " [-3.13375771e+00  1.55028992e+00]\n",
      " [-3.33607181e+00 -1.64433742e+00]\n",
      " [ 1.76101432e+00  6.13906724e+00]\n",
      " [-8.28420848e+00 -5.78239691e+00]\n",
      " [-5.20683610e+00  1.11589055e+00]\n",
      " [-8.20169078e+00  1.82439717e-01]\n",
      " [-8.21372727e+00 -5.89008582e+00]\n",
      " [ 4.19308410e-01  3.57436207e+00]\n",
      " [-1.02062926e+01 -1.32458957e+00]\n",
      " [-9.29224063e+00 -1.03267276e+00]\n",
      " [-2.69436209e+00 -9.01748580e-01]\n",
      " [-9.99101521e+00 -9.13209702e-01]\n",
      " [-5.55257423e+00  4.55115296e-01]]\n"
     ]
    },
    {
     "data": {
      "image/png": "[encoded data removed]",
      "text/plain": [
       "<Figure size 432x288 with 1 Axes>"
      ]
     },
     "metadata": {
      "needs_background": "light"
     },
     "output_type": "display_data"
    }
   ],
   "source": [
    "assignPointToClusters(clusters)\n",
    "plotCluster(clusters)\n",
    "updateClusters(clusters)"
   ]
  },
  {
   "cell_type": "code",
   "execution_count": null,
   "id": "dcd70dbb",
   "metadata": {},
   "outputs": [],
   "source": []
  }
 ],
 "metadata": {
  "kernelspec": {
   "display_name": "Python 3",
   "language": "python",
   "name": "python3"
  },
  "language_info": {
   "codemirror_mode": {
    "name": "ipython",
    "version": 3
   },
   "file_extension": ".py",
   "mimetype": "text/x-python",
   "name": "python",
   "nbconvert_exporter": "python",
   "pygments_lexer": "ipython3",
   "version": "3.8.10"
  }
 },
 "nbformat": 4,
 "nbformat_minor": 5
}
