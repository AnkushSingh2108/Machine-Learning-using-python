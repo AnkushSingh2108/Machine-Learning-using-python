{
 "cells": [
  {
   "cell_type": "code",
   "execution_count": 2,
   "id": "fd414794",
   "metadata": {},
   "outputs": [],
   "source": [
    "a = {\n",
    "    \"Name\":\"Ankush\",\n",
    "    \"DOB\": '21/08/2001'\n",
    "}\n"
   ]
  },
  {
   "cell_type": "code",
   "execution_count": 4,
   "id": "17c42b81",
   "metadata": {},
   "outputs": [
    {
     "data": {
      "text/plain": [
       "'Ankush'"
      ]
     },
     "execution_count": 4,
     "metadata": {},
     "output_type": "execute_result"
    }
   ],
   "source": [
    "a[\"Name\"]"
   ]
  },
  {
   "cell_type": "code",
   "execution_count": 5,
   "id": "7106681a",
   "metadata": {},
   "outputs": [
    {
     "data": {
      "text/plain": [
       "'21/08/2001'"
      ]
     },
     "execution_count": 5,
     "metadata": {},
     "output_type": "execute_result"
    }
   ],
   "source": [
    "a[\"DOB\"]"
   ]
  },
  {
   "cell_type": "code",
   "execution_count": null,
   "id": "566fb8b9",
   "metadata": {},
   "outputs": [],
   "source": []
  },
  {
   "cell_type": "code",
   "execution_count": null,
   "id": "39d7757e",
   "metadata": {},
   "outputs": [],
   "source": []
  },
  {
   "cell_type": "code",
   "execution_count": 7,
   "id": "d965655e",
   "metadata": {},
   "outputs": [],
   "source": [
    "b = {\n",
    "    (1,2): \"Ankush\"\n",
    "}\n"
   ]
  },
  {
   "cell_type": "code",
   "execution_count": 8,
   "id": "2ec07c86",
   "metadata": {},
   "outputs": [
    {
     "data": {
      "text/plain": [
       "'Ankush'"
      ]
     },
     "execution_count": 8,
     "metadata": {},
     "output_type": "execute_result"
    }
   ],
   "source": [
    "b[(1,2)]"
   ]
  },
  {
   "cell_type": "code",
   "execution_count": 11,
   "id": "6b7d14fc",
   "metadata": {},
   "outputs": [],
   "source": [
    "# c = {\n",
    "#     [1,2]: \"Ankush\"\n",
    "# }"
   ]
  }
 ],
 "metadata": {
  "kernelspec": {
   "display_name": "Python 3",
   "language": "python",
   "name": "python3"
  },
  "language_info": {
   "codemirror_mode": {
    "name": "ipython",
    "version": 3
   },
   "file_extension": ".py",
   "mimetype": "text/x-python",
   "name": "python",
   "nbconvert_exporter": "python",
   "pygments_lexer": "ipython3",
   "version": "3.8.10"
  }
 },
 "nbformat": 4,
 "nbformat_minor": 5
}
