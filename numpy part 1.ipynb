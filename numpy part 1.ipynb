{
 "cells": [
  {
   "cell_type": "code",
   "execution_count": 1,
   "id": "1948f869",
   "metadata": {},
   "outputs": [],
   "source": [
    "import numpy as np"
   ]
  },
  {
   "cell_type": "code",
   "execution_count": 2,
   "id": "21992f6b",
   "metadata": {},
   "outputs": [
    {
     "name": "stdout",
     "output_type": "stream",
     "text": [
      "[  1   2   3   4   5 100]\n"
     ]
    }
   ],
   "source": [
    "a = np.array([1,2,3,4,5,100])\n",
    "print(a)"
   ]
  },
  {
   "cell_type": "code",
   "execution_count": 3,
   "id": "f687dc58",
   "metadata": {},
   "outputs": [
    {
     "name": "stdout",
     "output_type": "stream",
     "text": [
      "<class 'numpy.ndarray'>\n"
     ]
    }
   ],
   "source": [
    "print(type(a))"
   ]
  },
  {
   "cell_type": "code",
   "execution_count": 4,
   "id": "e0c118eb",
   "metadata": {},
   "outputs": [
    {
     "data": {
      "text/plain": [
       "(6,)"
      ]
     },
     "execution_count": 4,
     "metadata": {},
     "output_type": "execute_result"
    }
   ],
   "source": [
    "a.shape"
   ]
  },
  {
   "cell_type": "code",
   "execution_count": 5,
   "id": "94872d4a",
   "metadata": {},
   "outputs": [
    {
     "name": "stdout",
     "output_type": "stream",
     "text": [
      "[[   6    7    8    9   10 2000]]\n"
     ]
    }
   ],
   "source": [
    "b = np.array([[6,7,8,9,10,2000]])\n",
    "print(b)"
   ]
  },
  {
   "cell_type": "code",
   "execution_count": 6,
   "id": "3464230e",
   "metadata": {},
   "outputs": [
    {
     "data": {
      "text/plain": [
       "(1, 6)"
      ]
     },
     "execution_count": 6,
     "metadata": {},
     "output_type": "execute_result"
    }
   ],
   "source": [
    "b.shape"
   ]
  },
  {
   "cell_type": "code",
   "execution_count": 7,
   "id": "77525924",
   "metadata": {
    "scrolled": true
   },
   "outputs": [
    {
     "data": {
      "text/plain": [
       "array([[   6],\n",
       "       [   7],\n",
       "       [   8],\n",
       "       [   9],\n",
       "       [  10],\n",
       "       [2000]])"
      ]
     },
     "execution_count": 7,
     "metadata": {},
     "output_type": "execute_result"
    }
   ],
   "source": [
    "b.T"
   ]
  },
  {
   "cell_type": "code",
   "execution_count": 8,
   "id": "9237c458",
   "metadata": {},
   "outputs": [
    {
     "data": {
      "text/plain": [
       "array([200130])"
      ]
     },
     "execution_count": 8,
     "metadata": {},
     "output_type": "execute_result"
    }
   ],
   "source": [
    "np.dot(a,b.T) # dot product of the matrices"
   ]
  },
  {
   "cell_type": "code",
   "execution_count": 9,
   "id": "9d3d7be0",
   "metadata": {
    "scrolled": true
   },
   "outputs": [
    {
     "data": {
      "text/plain": [
       "array([6, 5, 7, 6])"
      ]
     },
     "execution_count": 9,
     "metadata": {},
     "output_type": "execute_result"
    }
   ],
   "source": [
    "np.random.randint(5,9,4)"
   ]
  },
  {
   "cell_type": "code",
   "execution_count": 10,
   "id": "6c739b07",
   "metadata": {},
   "outputs": [
    {
     "name": "stdout",
     "output_type": "stream",
     "text": [
      "[[91 79 95 92 94]\n",
      " [86 83 89 87 68]\n",
      " [67 76 93 89 98]\n",
      " [95 75 83 98 97]\n",
      " [77 71 90 73 62]]\n"
     ]
    }
   ],
   "source": [
    "matrix = np.random.randint(60,100,(5,5))\n",
    "print(matrix)"
   ]
  },
  {
   "cell_type": "code",
   "execution_count": 11,
   "id": "fd61ad28",
   "metadata": {},
   "outputs": [
    {
     "data": {
      "text/plain": [
       "62"
      ]
     },
     "execution_count": 11,
     "metadata": {},
     "output_type": "execute_result"
    }
   ],
   "source": [
    "np.min(matrix)   #gives the minimum element of the matrix"
   ]
  },
  {
   "cell_type": "code",
   "execution_count": 12,
   "id": "3f733e24",
   "metadata": {},
   "outputs": [
    {
     "data": {
      "text/plain": [
       "24"
      ]
     },
     "execution_count": 12,
     "metadata": {},
     "output_type": "execute_result"
    }
   ],
   "source": [
    "np.argmin(matrix) #gives the minimum element index value"
   ]
  },
  {
   "cell_type": "code",
   "execution_count": 13,
   "id": "e97df1c8",
   "metadata": {},
   "outputs": [],
   "source": [
    " b = np.unique(matrix,return_counts=True) #gives the all the  elements in the array one time in array and another array contains the count of the elements"
   ]
  },
  {
   "cell_type": "code",
   "execution_count": 14,
   "id": "159e52aa",
   "metadata": {},
   "outputs": [
    {
     "name": "stdout",
     "output_type": "stream",
     "text": [
      "[62 67 68 71 73 75 76 77 79 83 86 87 89 90 91 92 93 94 95 97 98]\n"
     ]
    }
   ],
   "source": [
    "print(b[0])    "
   ]
  },
  {
   "cell_type": "code",
   "execution_count": 15,
   "id": "9e692782",
   "metadata": {},
   "outputs": [
    {
     "name": "stdout",
     "output_type": "stream",
     "text": [
      "[1 1 1 1 1 1 1 1 1 2 1 1 2 1 1 1 1 1 2 1 2]\n"
     ]
    }
   ],
   "source": [
    "print(b[1])"
   ]
  },
  {
   "cell_type": "code",
   "execution_count": 16,
   "id": "d4483c40",
   "metadata": {},
   "outputs": [
    {
     "name": "stdout",
     "output_type": "stream",
     "text": [
      "<class 'numpy.ndarray'>\n",
      "<class 'tuple'>\n"
     ]
    }
   ],
   "source": [
    "print(type(a))\n",
    "print(type(b))"
   ]
  },
  {
   "cell_type": "code",
   "execution_count": 17,
   "id": "d413566a",
   "metadata": {},
   "outputs": [
    {
     "name": "stdout",
     "output_type": "stream",
     "text": [
      "[1 2]\n",
      "[62 67 68 71 73 75 76 77 79 83 86 87 89 90 91 92 93 94 95 97 98]\n"
     ]
    }
   ],
   "source": [
    "unique_in_a = np.unique(b[1])\n",
    "unique_in_b = np.unique(b[0])\n",
    "print(unique_in_a)\n",
    "print(unique_in_b)"
   ]
  },
  {
   "cell_type": "code",
   "execution_count": 18,
   "id": "20066aa7",
   "metadata": {},
   "outputs": [
    {
     "name": "stdout",
     "output_type": "stream",
     "text": [
      "0\n",
      "62\n"
     ]
    }
   ],
   "source": [
    "idx = np.argmin(b[1])\n",
    "print(idx)\n",
    "element = b[0][idx]\n",
    "print(element)"
   ]
  },
  {
   "cell_type": "code",
   "execution_count": 19,
   "id": "ef485a84",
   "metadata": {},
   "outputs": [
    {
     "data": {
      "text/plain": [
       "array([[91, 79, 95, 92, 94],\n",
       "       [86, 83, 89, 87, 68],\n",
       "       [67, 76, 93, 89, 98],\n",
       "       [95, 75, 83, 98, 97],\n",
       "       [77, 71, 90, 73, 62]])"
      ]
     },
     "execution_count": 19,
     "metadata": {},
     "output_type": "execute_result"
    }
   ],
   "source": [
    "# Slicing arrays\n",
    "matrix"
   ]
  },
  {
   "cell_type": "code",
   "execution_count": 20,
   "id": "e70a23cc",
   "metadata": {},
   "outputs": [
    {
     "data": {
      "text/plain": [
       "array([[76, 93, 89],\n",
       "       [75, 83, 98]])"
      ]
     },
     "execution_count": 20,
     "metadata": {},
     "output_type": "execute_result"
    }
   ],
   "source": [
    "matrix[2:4,1:4]"
   ]
  },
  {
   "cell_type": "code",
   "execution_count": 21,
   "id": "6d78af4f",
   "metadata": {},
   "outputs": [
    {
     "data": {
      "text/plain": [
       "91"
      ]
     },
     "execution_count": 21,
     "metadata": {},
     "output_type": "execute_result"
    }
   ],
   "source": [
    "matrix[0,0]"
   ]
  }
 ],
 "metadata": {
  "kernelspec": {
   "display_name": "Python 3",
   "language": "python",
   "name": "python3"
  },
  "language_info": {
   "codemirror_mode": {
    "name": "ipython",
    "version": 3
   },
   "file_extension": ".py",
   "mimetype": "text/x-python",
   "name": "python",
   "nbconvert_exporter": "python",
   "pygments_lexer": "ipython3",
   "version": "3.8.10"
  }
 },
 "nbformat": 4,
 "nbformat_minor": 5
}
