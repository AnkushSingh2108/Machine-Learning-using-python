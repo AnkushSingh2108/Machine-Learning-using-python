{
 "cells": [
  {
   "cell_type": "code",
   "execution_count": 1,
   "metadata": {},
   "outputs": [],
   "source": [
    "import numpy as np\n",
    "import matplotlib.pyplot as plt\n",
    "import matplotlib.animation as ani\n",
    "%matplotlib notebook"
   ]
  },
  {
   "cell_type": "code",
   "execution_count": 1,
   "metadata": {},
   "outputs": [],
   "source": [
    "# def data_gen():\n",
    "#     for count in range(1000):\n",
    "#         time = count/10\n",
    "#         yield t, np.sin(2*np.pi*time)* np.exp(-time/10)\n",
    "# def init():\n",
    "#     ax.set_xlim(0,10)\n",
    "#     ax.set_ylimit(-12,12)\n",
    "#     del xdata[:]\n",
    "#     del ydata[:]\n",
    "#     line.set_data(xdata,ydata)\n",
    "#     return line\n",
    "\n",
    "# fig,ax = plt.subplots()\n",
    "# line = ax.plot([],[],lw = 2)\n",
    "# xdata,ydata = [],[]\n",
    "\n",
    "# def run(data):\n",
    "#     time, y = data\n",
    "#     xdata.append(time)\n",
    "#     ydata.append(y)\n",
    "#     xmin,xmax = ax.get_xlin()\n",
    "    \n",
    "#     if t >= xmax:\n",
    "#         ax.set_xlim(xmin,2*xmax)\n",
    "#         ax.figure.canvas.draw()\n",
    "#     line.set_data(xdata,ydata)\n",
    "#     return line\n",
    "\n",
    "# ani = ani.FuncAnimation(fig.run,data_gen, interval = 10, repeat = False, init_func = init())\n",
    "# plt.show()"
   ]
  },
  {
   "cell_type": "code",
   "execution_count": null,
   "metadata": {},
   "outputs": [],
   "source": []
  }
 ],
 "metadata": {
  "kernelspec": {
   "display_name": "Python 3",
   "language": "python",
   "name": "python3"
  },
  "language_info": {
   "codemirror_mode": {
    "name": "ipython",
    "version": 3
   },
   "file_extension": ".py",
   "mimetype": "text/x-python",
   "name": "python",
   "nbconvert_exporter": "python",
   "pygments_lexer": "ipython3",
   "version": "3.7.9"
  }
 },
 "nbformat": 4,
 "nbformat_minor": 4
}
