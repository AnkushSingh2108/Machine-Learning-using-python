{
 "cells": [
  {
   "cell_type": "code",
   "execution_count": 1,
   "id": "f07741a6",
   "metadata": {},
   "outputs": [],
   "source": [
    "import numpy as np\n",
    "import matplotlib.pyplot as plt"
   ]
  },
  {
   "cell_type": "code",
   "execution_count": 2,
   "id": "1204b0fa",
   "metadata": {},
   "outputs": [
    {
     "name": "stdout",
     "output_type": "stream",
     "text": [
      "[[ 4.  ]\n",
      " [56.  ]\n",
      " [56.25]]\n",
      "(3, 1)\n"
     ]
    }
   ],
   "source": [
    "x = np.array([[4],[56],[56.25]])\n",
    "print(x)\n",
    "print(x.shape)"
   ]
  },
  {
   "cell_type": "markdown",
   "id": "0d59e9ce",
   "metadata": {},
   "source": [
    "# TENSORS"
   ]
  },
  {
   "cell_type": "code",
   "execution_count": 3,
   "id": "308f5ce8",
   "metadata": {
    "scrolled": false
   },
   "outputs": [
    {
     "data": {
      "image/png": "[encoded data removed]",
      "text/plain": [
       "<Figure size 432x288 with 1 Axes>"
      ]
     },
     "metadata": {
      "needs_background": "light"
     },
     "output_type": "display_data"
    }
   ],
   "source": [
    "global i\n",
    "global T\n",
    "global k\n",
    "for i in range(0,5):\n",
    "    for j in range(0,5):\n",
    "        for k in range(0,255):\n",
    "            T = np.zeros((5,5,3),dtype = 'int32')\n",
    "            T[i,j,0] = k\n",
    "plt.imshow(T)\n",
    "plt.show()"
   ]
  },
  {
   "cell_type": "code",
   "execution_count": null,
   "id": "4129e622",
   "metadata": {},
   "outputs": [],
   "source": [
    "    "
   ]
  },
  {
   "cell_type": "code",
   "execution_count": 4,
   "id": "e2703dd5",
   "metadata": {},
   "outputs": [
    {
     "name": "stdout",
     "output_type": "stream",
     "text": [
      "[[[  0   0   0   0   0]\n",
      "  [  0   0   0   0   0]\n",
      "  [  0   0   0   0   0]\n",
      "  [  0   0   0   0   0]\n",
      "  [  0   0   0   0 254]]\n",
      "\n",
      " [[  0   0   0   0   0]\n",
      "  [  0   0   0   0   0]\n",
      "  [  0   0   0   0   0]\n",
      "  [  0   0   0   0   0]\n",
      "  [  0   0   0   0   0]]\n",
      "\n",
      " [[  0   0   0   0   0]\n",
      "  [  0   0   0   0   0]\n",
      "  [  0   0   0   0   0]\n",
      "  [  0   0   0   0   0]\n",
      "  [  0   0   0   0   0]]]\n",
      "(3, 5, 5)\n"
     ]
    }
   ],
   "source": [
    "print(T.T)\n",
    "print(T.T.shape)"
   ]
  },
  {
   "cell_type": "code",
   "execution_count": 5,
   "id": "ce57c101",
   "metadata": {},
   "outputs": [
    {
     "name": "stdout",
     "output_type": "stream",
     "text": [
      "0\n"
     ]
    }
   ],
   "source": [
    "print(T.T[2,3,1])"
   ]
  },
  {
   "cell_type": "markdown",
   "id": "092491bb",
   "metadata": {},
   "source": [
    "# Tensor Transpose"
   ]
  },
  {
   "cell_type": "code",
   "execution_count": 11,
   "id": "c75215d7",
   "metadata": {},
   "outputs": [
    {
     "data": {
      "image/png": "[encoded data removed]",
      "text/plain": [
       "<Figure size 432x288 with 1 Axes>"
      ]
     },
     "metadata": {
      "needs_background": "light"
     },
     "output_type": "display_data"
    }
   ],
   "source": [
    "U = np.zeros((50,25,3), dtype  = 'uint8')\n",
    "U[:,:,2] = 255\n",
    "plt.imshow(U)\n",
    "plt.show()"
   ]
  },
  {
   "cell_type": "code",
   "execution_count": 12,
   "id": "91978b3d",
   "metadata": {},
   "outputs": [
    {
     "data": {
      "text/plain": [
       "(50, 25, 3)"
      ]
     },
     "execution_count": 12,
     "metadata": {},
     "output_type": "execute_result"
    }
   ],
   "source": [
    "U.shape"
   ]
  },
  {
   "cell_type": "code",
   "execution_count": 15,
   "id": "2f1dadf5",
   "metadata": {},
   "outputs": [
    {
     "name": "stdout",
     "output_type": "stream",
     "text": [
      "[  0   0 255]\n"
     ]
    }
   ],
   "source": [
    "print(U[0][0]) #[0 0 255] means the values of R G B color blocks in the tensor"
   ]
  },
  {
   "cell_type": "code",
   "execution_count": 16,
   "id": "800a49f8",
   "metadata": {},
   "outputs": [
    {
     "data": {
      "text/plain": [
       "(3, 25, 50)"
      ]
     },
     "execution_count": 16,
     "metadata": {},
     "output_type": "execute_result"
    }
   ],
   "source": [
    "U1 = np.transpose(U)\n",
    "U1.shape"
   ]
  },
  {
   "cell_type": "code",
   "execution_count": 23,
   "id": "e53f84a0",
   "metadata": {},
   "outputs": [
    {
     "name": "stdout",
     "output_type": "stream",
     "text": [
      "(50,)\n",
      "(3,)\n",
      "[0 0 0 0 0 0 0 0 0 0 0 0 0 0 0 0 0 0 0 0 0 0 0 0 0 0 0 0 0 0 0 0 0 0 0 0 0\n",
      " 0 0 0 0 0 0 0 0 0 0 0 0 0]\n",
      "[  0   0 255]\n"
     ]
    }
   ],
   "source": [
    "print(U1[0][0].shape)\n",
    "print(U[0][0].shape)\n",
    "print(U1[0][0])\n",
    "print(U[0][0])"
   ]
  },
  {
   "cell_type": "markdown",
   "id": "21533830",
   "metadata": {},
   "source": [
    "# "
   ]
  },
  {
   "cell_type": "markdown",
   "id": "f3141201",
   "metadata": {},
   "source": [
    "# BROADCASTING\n",
    "- You can add a scalar to a vector, and numpy will add it to each element in the vector\n",
    "    - x+a = xi +a\n",
    "\n",
    "- Similarly you can add a vector to a matrix, and numpy will add the vector to each COLUMN of the matrix"
   ]
  },
  {
   "cell_type": "markdown",
   "id": "cb0199b9",
   "metadata": {},
   "source": [
    "## This BROADCASTING is supported by NUMPY ARRAY NOT by PYTHON LISTS"
   ]
  },
  {
   "cell_type": "code",
   "execution_count": 26,
   "id": "d50fc9b6",
   "metadata": {},
   "outputs": [
    {
     "name": "stdout",
     "output_type": "stream",
     "text": [
      "[1 2 3 4]\n",
      "[11 12 13 14]\n"
     ]
    }
   ],
   "source": [
    "x = np.array([1,2,3,4])\n",
    "print(x)\n",
    "print(x+10)"
   ]
  },
  {
   "cell_type": "code",
   "execution_count": 27,
   "id": "0cf63f00",
   "metadata": {},
   "outputs": [
    {
     "name": "stdout",
     "output_type": "stream",
     "text": [
      "[[ 10  20  30  40]\n",
      " [100 200 300 400]]\n",
      "[[ 11  22  33  44]\n",
      " [101 202 303 404]]\n"
     ]
    }
   ],
   "source": [
    "X = np.array([[10,20,30,40],\n",
    "              [100,200,300,400]])\n",
    "print(X)\n",
    "print(X+x)"
   ]
  },
  {
   "cell_type": "markdown",
   "id": "53b719db",
   "metadata": {},
   "source": [
    "# "
   ]
  },
  {
   "cell_type": "markdown",
   "id": "e1abbfea",
   "metadata": {},
   "source": [
    "\n",
    "# Element wise multiplication of Arrays: HADAMARD PRODUCT\n",
    "- C[i][j] = A[i][j] * B[i][j]"
   ]
  },
  {
   "cell_type": "code",
   "execution_count": 34,
   "id": "0390a12e",
   "metadata": {},
   "outputs": [
    {
     "data": {
      "text/plain": [
       "array([[ 1, 40],\n",
       "       [30,  8]])"
      ]
     },
     "execution_count": 34,
     "metadata": {},
     "output_type": "execute_result"
    }
   ],
   "source": [
    "A = np.array([[1,20],\n",
    "            [10,2]])\n",
    "B = np.array([[1,2],\n",
    "            [3,4]])\n",
    "A*B"
   ]
  },
  {
   "cell_type": "code",
   "execution_count": 35,
   "id": "3e6e38c8",
   "metadata": {},
   "outputs": [
    {
     "data": {
      "text/plain": [
       "array([[61, 82],\n",
       "       [16, 28]])"
      ]
     },
     "execution_count": 35,
     "metadata": {},
     "output_type": "execute_result"
    }
   ],
   "source": [
    "np.dot(A,B)"
   ]
  },
  {
   "cell_type": "code",
   "execution_count": null,
   "id": "3c7b37b4",
   "metadata": {},
   "outputs": [],
   "source": []
  },
  {
   "cell_type": "code",
   "execution_count": null,
   "id": "380e56b9",
   "metadata": {},
   "outputs": [],
   "source": []
  }
 ],
 "metadata": {
  "kernelspec": {
   "display_name": "Python 3",
   "language": "python",
   "name": "python3"
  },
  "language_info": {
   "codemirror_mode": {
    "name": "ipython",
    "version": 3
   },
   "file_extension": ".py",
   "mimetype": "text/x-python",
   "name": "python",
   "nbconvert_exporter": "python",
   "pygments_lexer": "ipython3",
   "version": "3.8.10"
  }
 },
 "nbformat": 4,
 "nbformat_minor": 5
}
