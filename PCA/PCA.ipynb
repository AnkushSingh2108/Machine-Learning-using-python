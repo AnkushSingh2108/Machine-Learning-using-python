{
 "cells": [
  {
   "cell_type": "code",
   "execution_count": 1,
   "id": "a198c532",
   "metadata": {},
   "outputs": [],
   "source": [
    "import numpy as np\n",
    "import pandas as pd\n",
    "import matplotlib.pyplot as plt"
   ]
  },
  {
   "cell_type": "code",
   "execution_count": 2,
   "id": "b45d815c",
   "metadata": {},
   "outputs": [],
   "source": [
    "dfx = pd.read_csv(\"mnist_train_data.csv\")\n",
    "dfy = pd.read_csv(\"mnist_test_data.csv\")"
   ]
  },
  {
   "cell_type": "code",
   "execution_count": 3,
   "id": "59667459",
   "metadata": {},
   "outputs": [
    {
     "name": "stdout",
     "output_type": "stream",
     "text": [
      "(60000, 784) (60000, 1)\n",
      "<class 'pandas.core.frame.DataFrame'>\n"
     ]
    }
   ],
   "source": [
    "print(dfx.shape , dfy.shape)\n",
    "print(type(dfx))"
   ]
  },
  {
   "cell_type": "code",
   "execution_count": 4,
   "id": "04d837ef",
   "metadata": {},
   "outputs": [
    {
     "data": {
      "text/html": [
       "<div>\n",
       "<style scoped>\n",
       "    .dataframe tbody tr th:only-of-type {\n",
       "        vertical-align: middle;\n",
       "    }\n",
       "\n",
       "    .dataframe tbody tr th {\n",
       "        vertical-align: top;\n",
       "    }\n",
       "\n",
       "    .dataframe thead th {\n",
       "        text-align: right;\n",
       "    }\n",
       "</style>\n",
       "<table border=\"1\" class=\"dataframe\">\n",
       "  <thead>\n",
       "    <tr style=\"text-align: right;\">\n",
       "      <th></th>\n",
       "      <th>1x1</th>\n",
       "      <th>1x2</th>\n",
       "      <th>1x3</th>\n",
       "      <th>1x4</th>\n",
       "      <th>1x5</th>\n",
       "      <th>1x6</th>\n",
       "      <th>1x7</th>\n",
       "      <th>1x8</th>\n",
       "      <th>1x9</th>\n",
       "      <th>1x10</th>\n",
       "      <th>...</th>\n",
       "      <th>28x19</th>\n",
       "      <th>28x20</th>\n",
       "      <th>28x21</th>\n",
       "      <th>28x22</th>\n",
       "      <th>28x23</th>\n",
       "      <th>28x24</th>\n",
       "      <th>28x25</th>\n",
       "      <th>28x26</th>\n",
       "      <th>28x27</th>\n",
       "      <th>28x28</th>\n",
       "    </tr>\n",
       "  </thead>\n",
       "  <tbody>\n",
       "    <tr>\n",
       "      <th>0</th>\n",
       "      <td>0</td>\n",
       "      <td>0</td>\n",
       "      <td>0</td>\n",
       "      <td>0</td>\n",
       "      <td>0</td>\n",
       "      <td>0</td>\n",
       "      <td>0</td>\n",
       "      <td>0</td>\n",
       "      <td>0</td>\n",
       "      <td>0</td>\n",
       "      <td>...</td>\n",
       "      <td>0</td>\n",
       "      <td>0</td>\n",
       "      <td>0</td>\n",
       "      <td>0</td>\n",
       "      <td>0</td>\n",
       "      <td>0</td>\n",
       "      <td>0</td>\n",
       "      <td>0</td>\n",
       "      <td>0</td>\n",
       "      <td>0</td>\n",
       "    </tr>\n",
       "    <tr>\n",
       "      <th>1</th>\n",
       "      <td>0</td>\n",
       "      <td>0</td>\n",
       "      <td>0</td>\n",
       "      <td>0</td>\n",
       "      <td>0</td>\n",
       "      <td>0</td>\n",
       "      <td>0</td>\n",
       "      <td>0</td>\n",
       "      <td>0</td>\n",
       "      <td>0</td>\n",
       "      <td>...</td>\n",
       "      <td>0</td>\n",
       "      <td>0</td>\n",
       "      <td>0</td>\n",
       "      <td>0</td>\n",
       "      <td>0</td>\n",
       "      <td>0</td>\n",
       "      <td>0</td>\n",
       "      <td>0</td>\n",
       "      <td>0</td>\n",
       "      <td>0</td>\n",
       "    </tr>\n",
       "    <tr>\n",
       "      <th>2</th>\n",
       "      <td>0</td>\n",
       "      <td>0</td>\n",
       "      <td>0</td>\n",
       "      <td>0</td>\n",
       "      <td>0</td>\n",
       "      <td>0</td>\n",
       "      <td>0</td>\n",
       "      <td>0</td>\n",
       "      <td>0</td>\n",
       "      <td>0</td>\n",
       "      <td>...</td>\n",
       "      <td>0</td>\n",
       "      <td>0</td>\n",
       "      <td>0</td>\n",
       "      <td>0</td>\n",
       "      <td>0</td>\n",
       "      <td>0</td>\n",
       "      <td>0</td>\n",
       "      <td>0</td>\n",
       "      <td>0</td>\n",
       "      <td>0</td>\n",
       "    </tr>\n",
       "    <tr>\n",
       "      <th>3</th>\n",
       "      <td>0</td>\n",
       "      <td>0</td>\n",
       "      <td>0</td>\n",
       "      <td>0</td>\n",
       "      <td>0</td>\n",
       "      <td>0</td>\n",
       "      <td>0</td>\n",
       "      <td>0</td>\n",
       "      <td>0</td>\n",
       "      <td>0</td>\n",
       "      <td>...</td>\n",
       "      <td>0</td>\n",
       "      <td>0</td>\n",
       "      <td>0</td>\n",
       "      <td>0</td>\n",
       "      <td>0</td>\n",
       "      <td>0</td>\n",
       "      <td>0</td>\n",
       "      <td>0</td>\n",
       "      <td>0</td>\n",
       "      <td>0</td>\n",
       "    </tr>\n",
       "    <tr>\n",
       "      <th>4</th>\n",
       "      <td>0</td>\n",
       "      <td>0</td>\n",
       "      <td>0</td>\n",
       "      <td>0</td>\n",
       "      <td>0</td>\n",
       "      <td>0</td>\n",
       "      <td>0</td>\n",
       "      <td>0</td>\n",
       "      <td>0</td>\n",
       "      <td>0</td>\n",
       "      <td>...</td>\n",
       "      <td>0</td>\n",
       "      <td>0</td>\n",
       "      <td>0</td>\n",
       "      <td>0</td>\n",
       "      <td>0</td>\n",
       "      <td>0</td>\n",
       "      <td>0</td>\n",
       "      <td>0</td>\n",
       "      <td>0</td>\n",
       "      <td>0</td>\n",
       "    </tr>\n",
       "  </tbody>\n",
       "</table>\n",
       "<p>5 rows × 784 columns</p>\n",
       "</div>"
      ],
      "text/plain": [
       "   1x1  1x2  1x3  1x4  1x5  1x6  1x7  1x8  1x9  1x10  ...  28x19  28x20  \\\n",
       "0    0    0    0    0    0    0    0    0    0     0  ...      0      0   \n",
       "1    0    0    0    0    0    0    0    0    0     0  ...      0      0   \n",
       "2    0    0    0    0    0    0    0    0    0     0  ...      0      0   \n",
       "3    0    0    0    0    0    0    0    0    0     0  ...      0      0   \n",
       "4    0    0    0    0    0    0    0    0    0     0  ...      0      0   \n",
       "\n",
       "   28x21  28x22  28x23  28x24  28x25  28x26  28x27  28x28  \n",
       "0      0      0      0      0      0      0      0      0  \n",
       "1      0      0      0      0      0      0      0      0  \n",
       "2      0      0      0      0      0      0      0      0  \n",
       "3      0      0      0      0      0      0      0      0  \n",
       "4      0      0      0      0      0      0      0      0  \n",
       "\n",
       "[5 rows x 784 columns]"
      ]
     },
     "execution_count": 4,
     "metadata": {},
     "output_type": "execute_result"
    }
   ],
   "source": [
    "dfx.head()"
   ]
  },
  {
   "cell_type": "code",
   "execution_count": 5,
   "id": "3ee5eab7",
   "metadata": {},
   "outputs": [
    {
     "data": {
      "text/html": [
       "<div>\n",
       "<style scoped>\n",
       "    .dataframe tbody tr th:only-of-type {\n",
       "        vertical-align: middle;\n",
       "    }\n",
       "\n",
       "    .dataframe tbody tr th {\n",
       "        vertical-align: top;\n",
       "    }\n",
       "\n",
       "    .dataframe thead th {\n",
       "        text-align: right;\n",
       "    }\n",
       "</style>\n",
       "<table border=\"1\" class=\"dataframe\">\n",
       "  <thead>\n",
       "    <tr style=\"text-align: right;\">\n",
       "      <th></th>\n",
       "      <th>label</th>\n",
       "    </tr>\n",
       "  </thead>\n",
       "  <tbody>\n",
       "    <tr>\n",
       "      <th>0</th>\n",
       "      <td>5</td>\n",
       "    </tr>\n",
       "    <tr>\n",
       "      <th>1</th>\n",
       "      <td>0</td>\n",
       "    </tr>\n",
       "    <tr>\n",
       "      <th>2</th>\n",
       "      <td>4</td>\n",
       "    </tr>\n",
       "    <tr>\n",
       "      <th>3</th>\n",
       "      <td>1</td>\n",
       "    </tr>\n",
       "    <tr>\n",
       "      <th>4</th>\n",
       "      <td>9</td>\n",
       "    </tr>\n",
       "  </tbody>\n",
       "</table>\n",
       "</div>"
      ],
      "text/plain": [
       "   label\n",
       "0      5\n",
       "1      0\n",
       "2      4\n",
       "3      1\n",
       "4      9"
      ]
     },
     "execution_count": 5,
     "metadata": {},
     "output_type": "execute_result"
    }
   ],
   "source": [
    "dfy.head()"
   ]
  },
  {
   "cell_type": "markdown",
   "id": "28ba2e15",
   "metadata": {},
   "source": [
    "# Step 1: Preprocessing"
   ]
  },
  {
   "cell_type": "code",
   "execution_count": 6,
   "id": "c97929f5",
   "metadata": {},
   "outputs": [],
   "source": [
    "from sklearn.preprocessing import StandardScaler"
   ]
  },
  {
   "cell_type": "code",
   "execution_count": 7,
   "id": "a9d89952",
   "metadata": {},
   "outputs": [],
   "source": [
    "sc = StandardScaler()"
   ]
  },
  {
   "cell_type": "code",
   "execution_count": 8,
   "id": "2b890350",
   "metadata": {},
   "outputs": [],
   "source": [
    "dfx_fitT = sc.fit_transform(dfx)"
   ]
  },
  {
   "cell_type": "code",
   "execution_count": 9,
   "id": "49508316",
   "metadata": {},
   "outputs": [
    {
     "data": {
      "text/plain": [
       "(60000, 784)"
      ]
     },
     "execution_count": 9,
     "metadata": {},
     "output_type": "execute_result"
    }
   ],
   "source": [
    "dfx_fitT.shape"
   ]
  },
  {
   "cell_type": "code",
   "execution_count": 10,
   "id": "ebc4b267",
   "metadata": {},
   "outputs": [
    {
     "data": {
      "text/plain": [
       "<matplotlib.image.AxesImage at 0x7fbc30056d90>"
      ]
     },
     "execution_count": 10,
     "metadata": {},
     "output_type": "execute_result"
    },
    {
     "data": {
      "image/png": "[encoded data removed]",
      "text/plain": [
       "<Figure size 432x288 with 1 Axes>"
      ]
     },
     "metadata": {
      "needs_background": "light"
     },
     "output_type": "display_data"
    }
   ],
   "source": [
    "plt.imshow(dfx_fitT[90].reshape(28,28), cmap = \"gray\")"
   ]
  },
  {
   "cell_type": "markdown",
   "id": "cb468827",
   "metadata": {},
   "source": [
    "# Sklearn PCA"
   ]
  },
  {
   "cell_type": "code",
   "execution_count": 11,
   "id": "09ffb640",
   "metadata": {},
   "outputs": [],
   "source": [
    "from sklearn.decomposition import PCA"
   ]
  },
  {
   "cell_type": "code",
   "execution_count": 12,
   "id": "b5a92216",
   "metadata": {},
   "outputs": [],
   "source": [
    "pca = PCA(n_components=2,)"
   ]
  },
  {
   "cell_type": "code",
   "execution_count": 13,
   "id": "3097dd5a",
   "metadata": {},
   "outputs": [
    {
     "data": {
      "text/plain": [
       "(60000, 784)"
      ]
     },
     "execution_count": 13,
     "metadata": {},
     "output_type": "execute_result"
    }
   ],
   "source": [
    "dfx_fitT.shape"
   ]
  },
  {
   "cell_type": "code",
   "execution_count": 14,
   "id": "76fcb769",
   "metadata": {},
   "outputs": [],
   "source": [
    "z_pca= pca.fit_transform(dfx_fitT)"
   ]
  },
  {
   "cell_type": "code",
   "execution_count": 15,
   "id": "1fa7d16b",
   "metadata": {},
   "outputs": [
    {
     "data": {
      "text/plain": [
       "(60000, 2)"
      ]
     },
     "execution_count": 15,
     "metadata": {},
     "output_type": "execute_result"
    }
   ],
   "source": [
    "z_pca.shape"
   ]
  },
  {
   "cell_type": "code",
   "execution_count": 16,
   "id": "2e7af87c",
   "metadata": {},
   "outputs": [
    {
     "data": {
      "text/plain": [
       "array([[-0.92225049, -4.8152961 ],\n",
       "       [ 8.70899962, -7.75422639],\n",
       "       [ 2.32829693,  9.43221148],\n",
       "       ...,\n",
       "       [-3.7772054 , -3.2306299 ],\n",
       "       [ 1.72238012, -4.94788235],\n",
       "       [-1.42711053, -6.17559843]])"
      ]
     },
     "execution_count": 16,
     "metadata": {},
     "output_type": "execute_result"
    }
   ],
   "source": [
    "z_pca"
   ]
  },
  {
   "cell_type": "code",
   "execution_count": 17,
   "id": "2501278f",
   "metadata": {},
   "outputs": [
    {
     "data": {
      "text/plain": [
       "array([40.4876351 , 29.24169745])"
      ]
     },
     "execution_count": 17,
     "metadata": {},
     "output_type": "execute_result"
    }
   ],
   "source": [
    "pca.explained_variance_"
   ]
  },
  {
   "cell_type": "markdown",
   "id": "47dd352d",
   "metadata": {},
   "source": [
    "- Pca.explained_variance => z_pca[0] explains the 40% of the original variance of the total data pca[1] explaines the 29% of the original variance of the original data. Overall they are explpaining around 70% of the original data\n",
    "- Original data had 100% spread or variance, the new data which has lesser dimensions is having 70% spread or variance. WHich means we are having only 70% of the original data.\n",
    "- We can say that we have compressed the original data into 2 Dimensions but have also lost 30% of the original data/information"
   ]
  },
  {
   "cell_type": "markdown",
   "id": "cf775ef9",
   "metadata": {},
   "source": [
    "# Custom PCA"
   ]
  },
  {
   "cell_type": "markdown",
   "id": "bec69771",
   "metadata": {},
   "source": [
    "# Step 2: Compute Covariance Matrix"
   ]
  },
  {
   "cell_type": "code",
   "execution_count": 18,
   "id": "85d66993",
   "metadata": {},
   "outputs": [],
   "source": [
    "covariance_matrix = np.dot(dfx_fitT.T,dfx)"
   ]
  },
  {
   "cell_type": "code",
   "execution_count": 19,
   "id": "9d6704cf",
   "metadata": {},
   "outputs": [
    {
     "data": {
      "text/plain": [
       "(784, 784)"
      ]
     },
     "execution_count": 19,
     "metadata": {},
     "output_type": "execute_result"
    }
   ],
   "source": [
    "covariance_matrix.shape"
   ]
  },
  {
   "cell_type": "code",
   "execution_count": 20,
   "id": "97b41c13",
   "metadata": {},
   "outputs": [
    {
     "data": {
      "text/plain": [
       "array([[0., 0., 0., ..., 0., 0., 0.],\n",
       "       [0., 0., 0., ..., 0., 0., 0.],\n",
       "       [0., 0., 0., ..., 0., 0., 0.],\n",
       "       ...,\n",
       "       [0., 0., 0., ..., 0., 0., 0.],\n",
       "       [0., 0., 0., ..., 0., 0., 0.],\n",
       "       [0., 0., 0., ..., 0., 0., 0.]])"
      ]
     },
     "execution_count": 20,
     "metadata": {},
     "output_type": "execute_result"
    }
   ],
   "source": [
    "covariance_matrix"
   ]
  },
  {
   "cell_type": "markdown",
   "id": "3e37506b",
   "metadata": {},
   "source": [
    "# Step 3: Compute eigen vectors using SVD"
   ]
  },
  {
   "cell_type": "code",
   "execution_count": 21,
   "id": "4f0f6913",
   "metadata": {},
   "outputs": [],
   "source": [
    "from numpy.linalg import svd"
   ]
  },
  {
   "cell_type": "code",
   "execution_count": 22,
   "id": "bac49993",
   "metadata": {},
   "outputs": [],
   "source": [
    "u,s,v = svd(covariance_matrix)"
   ]
  },
  {
   "cell_type": "code",
   "execution_count": 23,
   "id": "a4960151",
   "metadata": {},
   "outputs": [
    {
     "data": {
      "text/plain": [
       "(784, 784)"
      ]
     },
     "execution_count": 23,
     "metadata": {},
     "output_type": "execute_result"
    }
   ],
   "source": [
    "u.shape"
   ]
  },
  {
   "cell_type": "code",
   "execution_count": 39,
   "id": "01edded7",
   "metadata": {},
   "outputs": [],
   "source": [
    "ured = u[:, :2]"
   ]
  },
  {
   "cell_type": "code",
   "execution_count": 40,
   "id": "1088fecb",
   "metadata": {},
   "outputs": [
    {
     "data": {
      "text/plain": [
       "(784, 2)"
      ]
     },
     "execution_count": 40,
     "metadata": {},
     "output_type": "execute_result"
    }
   ],
   "source": [
    "ured.shape"
   ]
  },
  {
   "cell_type": "markdown",
   "id": "537076c5",
   "metadata": {},
   "source": [
    "# Step 4: Projection of Data on New Axis(Components)"
   ]
  },
  {
   "cell_type": "code",
   "execution_count": 41,
   "id": "9bf74678",
   "metadata": {},
   "outputs": [],
   "source": [
    "z = np.dot(dfx_fitT,ured)"
   ]
  },
  {
   "cell_type": "code",
   "execution_count": 42,
   "id": "3a6d3f93",
   "metadata": {},
   "outputs": [
    {
     "data": {
      "text/plain": [
       "(60000, 2)"
      ]
     },
     "execution_count": 42,
     "metadata": {},
     "output_type": "execute_result"
    }
   ],
   "source": [
    "z.shape"
   ]
  },
  {
   "cell_type": "code",
   "execution_count": 44,
   "id": "9fb186df",
   "metadata": {},
   "outputs": [
    {
     "data": {
      "text/plain": [
       "array([[-0.06179595,  3.4777616 ],\n",
       "       [ 9.6322538 ,  3.23201159],\n",
       "       [ 1.19774534, -8.16829421],\n",
       "       ...,\n",
       "       [-2.81182931, -0.70022867],\n",
       "       [ 1.83873689,  2.63046265],\n",
       "       [-1.40275301,  2.23260196]])"
      ]
     },
     "execution_count": 44,
     "metadata": {},
     "output_type": "execute_result"
    }
   ],
   "source": [
    "z"
   ]
  },
  {
   "cell_type": "markdown",
   "id": "985bdf9a",
   "metadata": {},
   "source": [
    "# Visualize the data"
   ]
  },
  {
   "cell_type": "code",
   "execution_count": 47,
   "id": "abf93cdd",
   "metadata": {},
   "outputs": [
    {
     "data": {
      "text/plain": [
       "(numpy.ndarray, pandas.core.frame.DataFrame)"
      ]
     },
     "execution_count": 47,
     "metadata": {},
     "output_type": "execute_result"
    }
   ],
   "source": [
    "type(dfy), type(dfx)"
   ]
  },
  {
   "cell_type": "code",
   "execution_count": 52,
   "id": "a19cd7f8",
   "metadata": {},
   "outputs": [],
   "source": [
    "# To Convert dfy into numpy array\n",
    "# dfy = dfy.to_numpy()"
   ]
  },
  {
   "cell_type": "code",
   "execution_count": 53,
   "id": "dd4aa344",
   "metadata": {},
   "outputs": [
    {
     "data": {
      "text/plain": [
       "numpy.ndarray"
      ]
     },
     "execution_count": 53,
     "metadata": {},
     "output_type": "execute_result"
    }
   ],
   "source": [
    "type(dfy)"
   ]
  },
  {
   "cell_type": "code",
   "execution_count": 56,
   "id": "5a138d6c",
   "metadata": {},
   "outputs": [],
   "source": [
    "new_dataset = np.hstack((z, dfy.reshape(-1,1)))"
   ]
  },
  {
   "cell_type": "code",
   "execution_count": 57,
   "id": "0fc130cd",
   "metadata": {},
   "outputs": [],
   "source": [
    "dataframe = pd.DataFrame(new_dataset, columns = ['PC1', 'PC2', \"label\"])"
   ]
  },
  {
   "cell_type": "code",
   "execution_count": 59,
   "id": "d21403b4",
   "metadata": {},
   "outputs": [
    {
     "data": {
      "text/html": [
       "<div>\n",
       "<style scoped>\n",
       "    .dataframe tbody tr th:only-of-type {\n",
       "        vertical-align: middle;\n",
       "    }\n",
       "\n",
       "    .dataframe tbody tr th {\n",
       "        vertical-align: top;\n",
       "    }\n",
       "\n",
       "    .dataframe thead th {\n",
       "        text-align: right;\n",
       "    }\n",
       "</style>\n",
       "<table border=\"1\" class=\"dataframe\">\n",
       "  <thead>\n",
       "    <tr style=\"text-align: right;\">\n",
       "      <th></th>\n",
       "      <th>PC1</th>\n",
       "      <th>PC2</th>\n",
       "      <th>label</th>\n",
       "    </tr>\n",
       "  </thead>\n",
       "  <tbody>\n",
       "    <tr>\n",
       "      <th>0</th>\n",
       "      <td>-0.061796</td>\n",
       "      <td>3.477762</td>\n",
       "      <td>5.0</td>\n",
       "    </tr>\n",
       "    <tr>\n",
       "      <th>1</th>\n",
       "      <td>9.632254</td>\n",
       "      <td>3.232012</td>\n",
       "      <td>0.0</td>\n",
       "    </tr>\n",
       "    <tr>\n",
       "      <th>2</th>\n",
       "      <td>1.197745</td>\n",
       "      <td>-8.168294</td>\n",
       "      <td>4.0</td>\n",
       "    </tr>\n",
       "    <tr>\n",
       "      <th>3</th>\n",
       "      <td>-7.297427</td>\n",
       "      <td>6.060066</td>\n",
       "      <td>1.0</td>\n",
       "    </tr>\n",
       "    <tr>\n",
       "      <th>4</th>\n",
       "      <td>-4.892827</td>\n",
       "      <td>-7.373369</td>\n",
       "      <td>9.0</td>\n",
       "    </tr>\n",
       "  </tbody>\n",
       "</table>\n",
       "</div>"
      ],
      "text/plain": [
       "        PC1       PC2  label\n",
       "0 -0.061796  3.477762    5.0\n",
       "1  9.632254  3.232012    0.0\n",
       "2  1.197745 -8.168294    4.0\n",
       "3 -7.297427  6.060066    1.0\n",
       "4 -4.892827 -7.373369    9.0"
      ]
     },
     "execution_count": 59,
     "metadata": {},
     "output_type": "execute_result"
    }
   ],
   "source": [
    "dataframe.head()"
   ]
  },
  {
   "cell_type": "markdown",
   "id": "01263ee5",
   "metadata": {},
   "source": [
    "- This PC1 and PC2 (Principal Components) are not representing any feature about the features in the dataset.\n",
    "- But these (Principal Components) can  be a combination of multiple features, thats y we never say what does the principal components say about the whole dataset."
   ]
  },
  {
   "cell_type": "code",
   "execution_count": 60,
   "id": "541c8caf",
   "metadata": {},
   "outputs": [],
   "source": [
    "import seaborn as sns"
   ]
  },
  {
   "cell_type": "code",
   "execution_count": 63,
   "id": "ea27a5ec",
   "metadata": {},
   "outputs": [
    {
     "data": {
      "text/plain": [
       "<Figure size 2160x2160 with 0 Axes>"
      ]
     },
     "metadata": {},
     "output_type": "display_data"
    },
    {
     "data": {
      "image/png": "[encoded data removed]",
      "text/plain": [
       "<Figure size 771.875x720 with 1 Axes>"
      ]
     },
     "metadata": {
      "needs_background": "light"
     },
     "output_type": "display_data"
    }
   ],
   "source": [
    "plt.figure(figsize = (30,30))\n",
    "fg = sns.FacetGrid(dataframe, hue = \"label\", height = 10)\n",
    "fg.map(plt.scatter, \"PC1\", \"PC2\")\n",
    "fg.add_legend()\n",
    "plt.show()"
   ]
  },
  {
   "cell_type": "markdown",
   "id": "40704693",
   "metadata": {},
   "source": [
    "# PCA with 784 dimensions"
   ]
  },
  {
   "cell_type": "code",
   "execution_count": 64,
   "id": "dfb5df87",
   "metadata": {},
   "outputs": [],
   "source": [
    "pca = PCA()"
   ]
  },
  {
   "cell_type": "code",
   "execution_count": 65,
   "id": "0b736788",
   "metadata": {},
   "outputs": [],
   "source": [
    "z_pca = pca.fit_transform(dfx_fitT)"
   ]
  },
  {
   "cell_type": "code",
   "execution_count": 66,
   "id": "35b244de",
   "metadata": {},
   "outputs": [
    {
     "data": {
      "text/plain": [
       "(60000, 784)"
      ]
     },
     "execution_count": 66,
     "metadata": {},
     "output_type": "execute_result"
    }
   ],
   "source": [
    "z_pca.shape"
   ]
  },
  {
   "cell_type": "code",
   "execution_count": 67,
   "id": "0f80cf68",
   "metadata": {
    "scrolled": true
   },
   "outputs": [
    {
     "data": {
      "text/plain": [
       "array([4.04876351e+01, 2.92416975e+01, 2.68118045e+01, 2.06866182e+01,\n",
       "       1.80766501e+01, 1.57331779e+01, 1.37906091e+01, 1.25175891e+01,\n",
       "       1.10067953e+01, 1.00504971e+01, 9.62045779e+00, 8.63097356e+00,\n",
       "       7.99159687e+00, 7.81488215e+00, 7.37553786e+00, 7.13058751e+00,\n",
       "       6.71398002e+00, 6.60400749e+00, 6.40604846e+00, 6.23737743e+00,\n",
       "       5.93229172e+00, 5.76059855e+00, 5.48403364e+00, 5.31859721e+00,\n",
       "       5.12873534e+00, 4.96062446e+00, 4.90533662e+00, 4.70843497e+00,\n",
       "       4.52919760e+00, 4.39470849e+00, 4.27522172e+00, 4.21399693e+00,\n",
       "       4.09838079e+00, 4.03181137e+00, 3.97713624e+00, 3.86052409e+00,\n",
       "       3.80864021e+00, 3.72563426e+00, 3.64393543e+00, 3.44169730e+00,\n",
       "       3.41624517e+00, 3.36378527e+00, 3.25773631e+00, 3.23620323e+00,\n",
       "       3.20478100e+00, 3.17911021e+00, 3.14205728e+00, 3.08588859e+00,\n",
       "       3.06076556e+00, 3.03759974e+00, 2.90171955e+00, 2.86408562e+00,\n",
       "       2.84980787e+00, 2.82374220e+00, 2.76632955e+00, 2.71778127e+00,\n",
       "       2.69168208e+00, 2.65850712e+00, 2.61669482e+00, 2.57622805e+00,\n",
       "       2.52662224e+00, 2.49372200e+00, 2.46947024e+00, 2.43689501e+00,\n",
       "       2.40883423e+00, 2.40117231e+00, 2.37950231e+00, 2.31613470e+00,\n",
       "       2.26774369e+00, 2.24599870e+00, 2.22798149e+00, 2.20296830e+00,\n",
       "       2.18627124e+00, 2.17051836e+00, 2.14734556e+00, 2.13498319e+00,\n",
       "       2.11555498e+00, 2.08247613e+00, 2.05679316e+00, 2.04834358e+00,\n",
       "       2.03199594e+00, 2.02647039e+00, 2.00441448e+00, 2.00265280e+00,\n",
       "       1.99701589e+00, 1.98938884e+00, 1.97824175e+00, 1.96624268e+00,\n",
       "       1.94604647e+00, 1.93064752e+00, 1.91072454e+00, 1.88990935e+00,\n",
       "       1.88546602e+00, 1.87164368e+00, 1.85582005e+00, 1.83681554e+00,\n",
       "       1.82010514e+00, 1.79573679e+00, 1.77696635e+00, 1.75691985e+00,\n",
       "       1.73765462e+00, 1.73562635e+00, 1.71276546e+00, 1.70257862e+00,\n",
       "       1.68934046e+00, 1.67101948e+00, 1.63464434e+00, 1.62169616e+00,\n",
       "       1.59772874e+00, 1.59493668e+00, 1.56430052e+00, 1.55775724e+00,\n",
       "       1.53639022e+00, 1.51961872e+00, 1.51269458e+00, 1.48658240e+00,\n",
       "       1.46816180e+00, 1.46534439e+00, 1.45129315e+00, 1.43733770e+00,\n",
       "       1.42557733e+00, 1.39971900e+00, 1.38911970e+00, 1.37740311e+00,\n",
       "       1.37462572e+00, 1.36090375e+00, 1.34145392e+00, 1.33748308e+00,\n",
       "       1.30008589e+00, 1.29065928e+00, 1.28484268e+00, 1.28325940e+00,\n",
       "       1.26875583e+00, 1.26307183e+00, 1.25331373e+00, 1.24032117e+00,\n",
       "       1.23337989e+00, 1.20979365e+00, 1.20828692e+00, 1.19627356e+00,\n",
       "       1.18105093e+00, 1.18002202e+00, 1.17800458e+00, 1.15787237e+00,\n",
       "       1.15073437e+00, 1.13941997e+00, 1.12921871e+00, 1.11794888e+00,\n",
       "       1.11594270e+00, 1.10897123e+00, 1.10450601e+00, 1.08702347e+00,\n",
       "       1.07746510e+00, 1.06663103e+00, 1.05763156e+00, 1.05271811e+00,\n",
       "       1.04542338e+00, 1.04373749e+00, 1.03778040e+00, 1.02457526e+00,\n",
       "       1.01140140e+00, 1.00337654e+00, 1.00173184e+00, 1.00046855e+00,\n",
       "       9.99191919e-01, 9.98261140e-01, 9.95020075e-01, 9.91911998e-01,\n",
       "       9.88157683e-01, 9.81192863e-01, 9.76322902e-01, 9.73862888e-01,\n",
       "       9.58654539e-01, 9.52947883e-01, 9.39711823e-01, 9.34217483e-01,\n",
       "       9.27270932e-01, 9.19501125e-01, 9.13521711e-01, 9.09329982e-01,\n",
       "       8.98571829e-01, 8.89415865e-01, 8.81806621e-01, 8.72015265e-01,\n",
       "       8.71214382e-01, 8.60432164e-01, 8.53867404e-01, 8.52487702e-01,\n",
       "       8.43235896e-01, 8.37184629e-01, 8.33410975e-01, 8.23117400e-01,\n",
       "       8.15267928e-01, 8.08215089e-01, 8.03449231e-01, 7.84473967e-01,\n",
       "       7.78284570e-01, 7.67406792e-01, 7.62908716e-01, 7.56264498e-01,\n",
       "       7.50198727e-01, 7.42851924e-01, 7.40444383e-01, 7.31877290e-01,\n",
       "       7.22925702e-01, 7.18144063e-01, 7.15476545e-01, 7.11228039e-01,\n",
       "       7.00717594e-01, 6.94421603e-01, 6.86932408e-01, 6.85727239e-01,\n",
       "       6.79532593e-01, 6.78632628e-01, 6.76647756e-01, 6.64488083e-01,\n",
       "       6.57788436e-01, 6.51533127e-01, 6.43496468e-01, 6.39263938e-01,\n",
       "       6.36570883e-01, 6.30172117e-01, 6.23195036e-01, 6.18152873e-01,\n",
       "       6.17030157e-01, 6.06128179e-01, 6.02355906e-01, 5.99225352e-01,\n",
       "       5.90833961e-01, 5.88509327e-01, 5.82907666e-01, 5.80913374e-01,\n",
       "       5.67852315e-01, 5.61624332e-01, 5.58383345e-01, 5.53177784e-01,\n",
       "       5.49497643e-01, 5.37881094e-01, 5.33123929e-01, 5.29867268e-01,\n",
       "       5.25161915e-01, 5.21320646e-01, 5.20217684e-01, 5.13934741e-01,\n",
       "       5.09825144e-01, 5.03714555e-01, 4.97977519e-01, 4.97718737e-01,\n",
       "       4.87185886e-01, 4.86432076e-01, 4.84983642e-01, 4.81468108e-01,\n",
       "       4.75583700e-01, 4.69695238e-01, 4.67368512e-01, 4.62111407e-01,\n",
       "       4.59846163e-01, 4.56254231e-01, 4.53244253e-01, 4.50189101e-01,\n",
       "       4.47458443e-01, 4.44695444e-01, 4.36675878e-01, 4.34404141e-01,\n",
       "       4.29189248e-01, 4.24368563e-01, 4.18485347e-01, 4.16413029e-01,\n",
       "       4.12449566e-01, 4.10582162e-01, 4.08471878e-01, 4.04344431e-01,\n",
       "       4.00671323e-01, 3.99065308e-01, 3.95580204e-01, 3.94502588e-01,\n",
       "       3.90516049e-01, 3.87705268e-01, 3.86309617e-01, 3.81769775e-01,\n",
       "       3.79689026e-01, 3.77292543e-01, 3.74555846e-01, 3.71998603e-01,\n",
       "       3.69121222e-01, 3.64480618e-01, 3.63772773e-01, 3.60731952e-01,\n",
       "       3.59056663e-01, 3.56385195e-01, 3.52991130e-01, 3.46199865e-01,\n",
       "       3.43846592e-01, 3.41952155e-01, 3.41299517e-01, 3.37787572e-01,\n",
       "       3.34127319e-01, 3.28980797e-01, 3.27493768e-01, 3.22230096e-01,\n",
       "       3.20204304e-01, 3.17389390e-01, 3.14327419e-01, 3.14190815e-01,\n",
       "       3.09981918e-01, 3.08817314e-01, 3.04565633e-01, 3.02044591e-01,\n",
       "       3.00595992e-01, 2.97688251e-01, 2.96323297e-01, 2.94224578e-01,\n",
       "       2.92865100e-01, 2.89507545e-01, 2.87902285e-01, 2.85695120e-01,\n",
       "       2.83406408e-01, 2.81135638e-01, 2.79694355e-01, 2.77292550e-01,\n",
       "       2.76914819e-01, 2.74639678e-01, 2.71785205e-01, 2.69634840e-01,\n",
       "       2.69044393e-01, 2.65666468e-01, 2.62822897e-01, 2.60855351e-01,\n",
       "       2.57742910e-01, 2.56874311e-01, 2.54604001e-01, 2.53626392e-01,\n",
       "       2.52746964e-01, 2.49843163e-01, 2.47563265e-01, 2.45198088e-01,\n",
       "       2.43064419e-01, 2.41307807e-01, 2.40053817e-01, 2.38292622e-01,\n",
       "       2.36682853e-01, 2.35754464e-01, 2.32991996e-01, 2.31660139e-01,\n",
       "       2.30555192e-01, 2.28963720e-01, 2.25826736e-01, 2.23096454e-01,\n",
       "       2.22209507e-01, 2.21436478e-01, 2.19746772e-01, 2.18403595e-01,\n",
       "       2.16656686e-01, 2.15451435e-01, 2.13453802e-01, 2.12599221e-01,\n",
       "       2.11075350e-01, 2.08130564e-01, 2.07855977e-01, 2.06109566e-01,\n",
       "       2.04731295e-01, 2.03332192e-01, 2.02460527e-01, 2.00898638e-01,\n",
       "       1.98839918e-01, 1.98243374e-01, 1.95388527e-01, 1.93968546e-01,\n",
       "       1.93620168e-01, 1.90726367e-01, 1.90529644e-01, 1.88570340e-01,\n",
       "       1.86438570e-01, 1.85947026e-01, 1.83297399e-01, 1.82005924e-01,\n",
       "       1.81454808e-01, 1.80148747e-01, 1.79060927e-01, 1.78011809e-01,\n",
       "       1.75255324e-01, 1.74967019e-01, 1.74420089e-01, 1.73690498e-01,\n",
       "       1.70486233e-01, 1.69946865e-01, 1.69348610e-01, 1.68465237e-01,\n",
       "       1.67146213e-01, 1.65358007e-01, 1.64702881e-01, 1.64238182e-01,\n",
       "       1.62858297e-01, 1.61751723e-01, 1.61181988e-01, 1.60724015e-01,\n",
       "       1.58992741e-01, 1.58741752e-01, 1.57817501e-01, 1.56505175e-01,\n",
       "       1.55720156e-01, 1.55060558e-01, 1.53956248e-01, 1.52978604e-01,\n",
       "       1.51695779e-01, 1.50917348e-01, 1.49584770e-01, 1.48481735e-01,\n",
       "       1.47865802e-01, 1.46080278e-01, 1.45332273e-01, 1.43367074e-01,\n",
       "       1.43283422e-01, 1.42128177e-01, 1.41994619e-01, 1.40716746e-01,\n",
       "       1.40102271e-01, 1.36643072e-01, 1.36221127e-01, 1.35593590e-01,\n",
       "       1.35260224e-01, 1.34235483e-01, 1.32765017e-01, 1.32584294e-01,\n",
       "       1.31475799e-01, 1.29519639e-01, 1.28443315e-01, 1.28395665e-01,\n",
       "       1.27310352e-01, 1.26370509e-01, 1.26218460e-01, 1.25545217e-01,\n",
       "       1.24204173e-01, 1.24143190e-01, 1.22656192e-01, 1.22200214e-01,\n",
       "       1.21965692e-01, 1.20931467e-01, 1.20657905e-01, 1.19691646e-01,\n",
       "       1.19014895e-01, 1.18618063e-01, 1.18118898e-01, 1.17466508e-01,\n",
       "       1.17335939e-01, 1.16723470e-01, 1.15873486e-01, 1.15123624e-01,\n",
       "       1.14075389e-01, 1.12686552e-01, 1.12151588e-01, 1.11460884e-01,\n",
       "       1.10337588e-01, 1.10189973e-01, 1.09251077e-01, 1.08447512e-01,\n",
       "       1.07512156e-01, 1.07123729e-01, 1.06906452e-01, 1.06105875e-01,\n",
       "       1.05596996e-01, 1.05557310e-01, 1.05211540e-01, 1.03903678e-01,\n",
       "       1.02968916e-01, 1.02878772e-01, 1.02533700e-01, 1.01479815e-01,\n",
       "       1.01262080e-01, 1.01016474e-01, 1.00089851e-01, 9.99892719e-02,\n",
       "       9.91338182e-02, 9.86711040e-02, 9.81215477e-02, 9.76251251e-02,\n",
       "       9.62231028e-02, 9.60720767e-02, 9.56929338e-02, 9.44572175e-02,\n",
       "       9.41294611e-02, 9.39433404e-02, 9.34723302e-02, 9.31289342e-02,\n",
       "       9.27594700e-02, 9.18704879e-02, 9.10168920e-02, 9.07451341e-02,\n",
       "       9.01526562e-02, 8.96636379e-02, 8.92193059e-02, 8.87277140e-02,\n",
       "       8.80568274e-02, 8.80285263e-02, 8.74545243e-02, 8.73580614e-02,\n",
       "       8.62906832e-02, 8.61700917e-02, 8.55990561e-02, 8.52048428e-02,\n",
       "       8.46472695e-02, 8.44529369e-02, 8.36722827e-02, 8.30866507e-02,\n",
       "       8.25608788e-02, 8.18500514e-02, 8.16703160e-02, 8.11542292e-02,\n",
       "       8.06639212e-02, 8.04738566e-02, 7.98603370e-02, 7.95480199e-02,\n",
       "       7.87399861e-02, 7.84451935e-02, 7.80337541e-02, 7.77029827e-02,\n",
       "       7.73259623e-02, 7.68333616e-02, 7.67910575e-02, 7.66443782e-02,\n",
       "       7.62542539e-02, 7.57474876e-02, 7.54886634e-02, 7.51180970e-02,\n",
       "       7.46529557e-02, 7.40440678e-02, 7.38366511e-02, 7.35312319e-02,\n",
       "       7.32932843e-02, 7.29374955e-02, 7.22039988e-02, 7.17099815e-02,\n",
       "       7.15706831e-02, 7.10311959e-02, 7.08756769e-02, 7.07507823e-02,\n",
       "       6.98316081e-02, 6.96772735e-02, 6.92024162e-02, 6.89287720e-02,\n",
       "       6.85711578e-02, 6.81514701e-02, 6.78016037e-02, 6.74223771e-02,\n",
       "       6.73116833e-02, 6.65357242e-02, 6.62586124e-02, 6.62264686e-02,\n",
       "       6.60528233e-02, 6.51600153e-02, 6.47105600e-02, 6.42815428e-02,\n",
       "       6.36531084e-02, 6.33409701e-02, 6.30312611e-02, 6.27488514e-02,\n",
       "       6.27238322e-02, 6.22327966e-02, 6.17660888e-02, 6.11624657e-02,\n",
       "       6.07923960e-02, 6.06078083e-02, 6.05434735e-02, 6.03349298e-02,\n",
       "       6.00326437e-02, 5.96677277e-02, 5.88999762e-02, 5.88628271e-02,\n",
       "       5.85510879e-02, 5.79943108e-02, 5.78437407e-02, 5.76494335e-02,\n",
       "       5.72765425e-02, 5.68811660e-02, 5.63243523e-02, 5.61291557e-02,\n",
       "       5.60255322e-02, 5.56855020e-02, 5.53722710e-02, 5.48709860e-02,\n",
       "       5.43966943e-02, 5.42523141e-02, 5.41728469e-02, 5.35849174e-02,\n",
       "       5.34825814e-02, 5.32703180e-02, 5.26310566e-02, 5.25559833e-02,\n",
       "       5.20588390e-02, 5.20362941e-02, 5.14793601e-02, 5.14124706e-02,\n",
       "       5.10479138e-02, 5.05497387e-02, 4.99116244e-02, 4.97760814e-02,\n",
       "       4.95378820e-02, 4.94472372e-02, 4.89608800e-02, 4.86759779e-02,\n",
       "       4.84461765e-02, 4.84019063e-02, 4.81156631e-02, 4.78461598e-02,\n",
       "       4.76982984e-02, 4.71481705e-02, 4.69737834e-02, 4.67845698e-02,\n",
       "       4.64165184e-02, 4.60459393e-02, 4.58680713e-02, 4.54379499e-02,\n",
       "       4.51108398e-02, 4.49038603e-02, 4.44970007e-02, 4.43741697e-02,\n",
       "       4.41731765e-02, 4.38093618e-02, 4.35445022e-02, 4.33655302e-02,\n",
       "       4.31086396e-02, 4.29895597e-02, 4.25307634e-02, 4.23348529e-02,\n",
       "       4.20929771e-02, 4.20002173e-02, 4.15973853e-02, 4.15544589e-02,\n",
       "       4.10675070e-02, 4.08944148e-02, 4.06164065e-02, 4.04408804e-02,\n",
       "       4.03433886e-02, 4.01450119e-02, 3.99565701e-02, 3.98526746e-02,\n",
       "       3.94726717e-02, 3.93769365e-02, 3.89699453e-02, 3.86448683e-02,\n",
       "       3.83521186e-02, 3.82816086e-02, 3.78693756e-02, 3.74993876e-02,\n",
       "       3.72845096e-02, 3.71127802e-02, 3.67344276e-02, 3.65619919e-02,\n",
       "       3.61879558e-02, 3.59943079e-02, 3.59162544e-02, 3.54631660e-02,\n",
       "       3.54023301e-02, 3.50358551e-02, 3.48498378e-02, 3.46110764e-02,\n",
       "       3.45244406e-02, 3.43130223e-02, 3.41489461e-02, 3.39543617e-02,\n",
       "       3.33336758e-02, 3.30425630e-02, 3.30321676e-02, 3.28583071e-02,\n",
       "       3.24665874e-02, 3.23106016e-02, 3.21037116e-02, 3.17933706e-02,\n",
       "       3.15562557e-02, 3.13034389e-02, 3.11398031e-02, 3.08688716e-02,\n",
       "       3.06071886e-02, 3.00696641e-02, 2.99644223e-02, 2.97949616e-02,\n",
       "       2.94319458e-02, 2.92630840e-02, 2.88835801e-02, 2.86486221e-02,\n",
       "       2.85708025e-02, 2.83097343e-02, 2.78187744e-02, 2.77582685e-02,\n",
       "       2.74428514e-02, 2.73869228e-02, 2.70103969e-02, 2.68436483e-02,\n",
       "       2.65608612e-02, 2.61234288e-02, 2.60793274e-02, 2.56063738e-02,\n",
       "       2.54160567e-02, 2.51047645e-02, 2.48627800e-02, 2.44670377e-02,\n",
       "       2.42222112e-02, 2.39526881e-02, 2.37961979e-02, 2.35875789e-02,\n",
       "       2.33362292e-02, 2.29989817e-02, 2.22649985e-02, 2.16656988e-02,\n",
       "       2.14999299e-02, 2.10718787e-02, 2.02921999e-02, 1.89439305e-02,\n",
       "       1.83221629e-02, 1.38856542e-02, 7.17242604e-03, 6.56559436e-03,\n",
       "       5.80680343e-28, 4.29786442e-30, 3.03440395e-30, 2.67150977e-30,\n",
       "       1.98008356e-30, 1.83406257e-30, 1.19106943e-30, 1.07711911e-30,\n",
       "       9.49691325e-31, 8.36284290e-31, 6.94645378e-31, 5.56079662e-31,\n",
       "       5.20905954e-31, 4.91014059e-31, 4.67025477e-31, 3.55458410e-31,\n",
       "       2.09958807e-31, 1.82839635e-31, 1.77464065e-31, 1.71445069e-31,\n",
       "       1.71445069e-31, 1.71445069e-31, 1.71445069e-31, 1.71445069e-31,\n",
       "       1.71445069e-31, 1.71445069e-31, 1.71445069e-31, 1.71445069e-31,\n",
       "       1.71445069e-31, 1.71445069e-31, 1.71445069e-31, 1.71445069e-31,\n",
       "       1.71445069e-31, 1.71445069e-31, 1.71445069e-31, 1.71445069e-31,\n",
       "       1.71445069e-31, 1.71445069e-31, 1.71445069e-31, 1.71445069e-31,\n",
       "       1.71445069e-31, 1.71445069e-31, 1.71445069e-31, 1.71445069e-31,\n",
       "       1.71445069e-31, 1.71445069e-31, 1.71445069e-31, 1.71445069e-31,\n",
       "       1.71445069e-31, 1.71445069e-31, 1.71445069e-31, 1.71445069e-31,\n",
       "       1.71445069e-31, 1.71445069e-31, 1.71445069e-31, 1.71445069e-31,\n",
       "       1.71445069e-31, 1.71445069e-31, 1.71445069e-31, 1.71445069e-31,\n",
       "       1.71445069e-31, 1.71445069e-31, 1.71445069e-31, 1.71445069e-31,\n",
       "       1.71445069e-31, 1.71445069e-31, 1.40003943e-31, 1.33460067e-31,\n",
       "       7.50024775e-32, 7.30198621e-32, 3.30885447e-32, 1.07647025e-33])"
      ]
     },
     "execution_count": 67,
     "metadata": {},
     "output_type": "execute_result"
    }
   ],
   "source": [
    "pca.explained_variance_"
   ]
  },
  {
   "cell_type": "code",
   "execution_count": 75,
   "id": "1866400b",
   "metadata": {
    "scrolled": true
   },
   "outputs": [
    {
     "data": {
      "text/plain": [
       "array([5.64671692e-02, 4.07827199e-02, 3.73938042e-02, 2.88511485e-02,\n",
       "       2.52110863e-02, 2.19426996e-02, 1.92334439e-02, 1.74579923e-02,\n",
       "       1.53509230e-02, 1.40171960e-02, 1.34174302e-02, 1.20374194e-02,\n",
       "       1.11456955e-02, 1.08992356e-02, 1.02864922e-02, 9.94486564e-03,\n",
       "       9.36383280e-03, 9.21045666e-03, 8.93436778e-03, 8.69912619e-03,\n",
       "       8.27363019e-03, 8.03417369e-03, 7.64845500e-03, 7.41772464e-03,\n",
       "       7.15292868e-03, 6.91846831e-03, 6.84135964e-03, 6.56674546e-03,\n",
       "       6.31676724e-03, 6.12919839e-03, 5.96255295e-03, 5.87716416e-03,\n",
       "       5.71591699e-03, 5.62307416e-03, 5.54682002e-03, 5.38418374e-03,\n",
       "       5.31182250e-03, 5.19605602e-03, 5.08211255e-03, 4.80005571e-03,\n",
       "       4.76455820e-03, 4.69139360e-03, 4.54348956e-03, 4.51345787e-03,\n",
       "       4.46963401e-03, 4.43383155e-03, 4.38215469e-03, 4.30381751e-03,\n",
       "       4.26877901e-03, 4.23647017e-03, 4.04696121e-03, 3.99447403e-03,\n",
       "       3.97456119e-03, 3.93820800e-03, 3.85813590e-03, 3.79042674e-03,\n",
       "       3.75402681e-03, 3.70775845e-03, 3.64944381e-03, 3.59300573e-03,\n",
       "       3.52382166e-03, 3.47793645e-03, 3.44411308e-03, 3.39868117e-03,\n",
       "       3.35954544e-03, 3.34885955e-03, 3.31863689e-03, 3.23025954e-03,\n",
       "       3.16276973e-03, 3.13244250e-03, 3.10731431e-03, 3.07242899e-03,\n",
       "       3.04914199e-03, 3.02717181e-03, 2.99485323e-03, 2.97761173e-03,\n",
       "       2.95051565e-03, 2.90438134e-03, 2.86856189e-03, 2.85677747e-03,\n",
       "       2.83397779e-03, 2.82627143e-03, 2.79551057e-03, 2.79305359e-03,\n",
       "       2.78519192e-03, 2.77455466e-03, 2.75900805e-03, 2.74227323e-03,\n",
       "       2.71410605e-03, 2.69262948e-03, 2.66484337e-03, 2.63581290e-03,\n",
       "       2.62961589e-03, 2.61033820e-03, 2.58826934e-03, 2.56176419e-03,\n",
       "       2.53845859e-03, 2.50447261e-03, 2.47829391e-03, 2.45033552e-03,\n",
       "       2.42346674e-03, 2.42063796e-03, 2.38875442e-03, 2.37454706e-03,\n",
       "       2.35608411e-03, 2.33053226e-03, 2.27980069e-03, 2.26174216e-03,\n",
       "       2.22831536e-03, 2.22442133e-03, 2.18169379e-03, 2.17256803e-03,\n",
       "       2.14276795e-03, 2.11937711e-03, 2.10972018e-03, 2.07330213e-03,\n",
       "       2.04761134e-03, 2.04368197e-03, 2.02408502e-03, 2.00462169e-03,\n",
       "       1.98821976e-03, 1.95215574e-03, 1.93737315e-03, 1.92103229e-03,\n",
       "       1.91715873e-03, 1.89802101e-03, 1.87089479e-03, 1.86535675e-03,\n",
       "       1.81319976e-03, 1.80005268e-03, 1.79194040e-03, 1.78973224e-03,\n",
       "       1.76950445e-03, 1.76157710e-03, 1.74796770e-03, 1.72984728e-03,\n",
       "       1.72016644e-03, 1.68727125e-03, 1.68516985e-03, 1.66841509e-03,\n",
       "       1.64718445e-03, 1.64574944e-03, 1.64293577e-03, 1.61485783e-03,\n",
       "       1.60490264e-03, 1.58912270e-03, 1.57489525e-03, 1.55917747e-03,\n",
       "       1.55637950e-03, 1.54665655e-03, 1.54042901e-03, 1.51604652e-03,\n",
       "       1.50271567e-03, 1.48760565e-03, 1.47505430e-03, 1.46820162e-03,\n",
       "       1.45802783e-03, 1.45567656e-03, 1.44736835e-03, 1.42895145e-03,\n",
       "       1.41057816e-03, 1.39938608e-03, 1.39709226e-03, 1.39533037e-03,\n",
       "       1.39354988e-03, 1.39225175e-03, 1.38773151e-03, 1.38339674e-03,\n",
       "       1.37816069e-03, 1.36844702e-03, 1.36165499e-03, 1.35822407e-03,\n",
       "       1.33701334e-03, 1.32905439e-03, 1.31059437e-03, 1.30293154e-03,\n",
       "       1.29324334e-03, 1.28240697e-03, 1.27406762e-03, 1.26822152e-03,\n",
       "       1.25321737e-03, 1.24044776e-03, 1.22983532e-03, 1.21617954e-03,\n",
       "       1.21506257e-03, 1.20002486e-03, 1.19086914e-03, 1.18894490e-03,\n",
       "       1.17604162e-03, 1.16760206e-03, 1.16233903e-03, 1.14798282e-03,\n",
       "       1.13703534e-03, 1.12719891e-03, 1.12055208e-03, 1.09408772e-03,\n",
       "       1.08545551e-03, 1.07028452e-03, 1.06401116e-03, 1.05474462e-03,\n",
       "       1.04628483e-03, 1.03603841e-03, 1.03268067e-03, 1.02073235e-03,\n",
       "       1.00824777e-03, 1.00157893e-03, 9.97858606e-04, 9.91933313e-04,\n",
       "       9.77274639e-04, 9.68493765e-04, 9.58048757e-04, 9.56367936e-04,\n",
       "       9.47728406e-04, 9.46473246e-04, 9.43704990e-04, 9.26746176e-04,\n",
       "       9.17402333e-04, 9.08678198e-04, 8.97469656e-04, 8.91566644e-04,\n",
       "       8.87810702e-04, 8.78886491e-04, 8.69155717e-04, 8.62123529e-04,\n",
       "       8.60557703e-04, 8.45352966e-04, 8.40091864e-04, 8.35725753e-04,\n",
       "       8.24022474e-04, 8.20780361e-04, 8.12967854e-04, 8.10186461e-04,\n",
       "       7.91970503e-04, 7.83284480e-04, 7.78764350e-04, 7.71504273e-04,\n",
       "       7.66371667e-04, 7.50170334e-04, 7.43535625e-04, 7.38993635e-04,\n",
       "       7.32431189e-04, 7.27073859e-04, 7.25535584e-04, 7.16772908e-04,\n",
       "       7.11041349e-04, 7.02519051e-04, 6.94517740e-04, 6.94156822e-04,\n",
       "       6.79466899e-04, 6.78415578e-04, 6.76395480e-04, 6.71492446e-04,\n",
       "       6.63285597e-04, 6.55073097e-04, 6.51828065e-04, 6.44496102e-04,\n",
       "       6.41336819e-04, 6.36327233e-04, 6.32129287e-04, 6.27868337e-04,\n",
       "       6.24059952e-04, 6.20206461e-04, 6.09021758e-04, 6.05853419e-04,\n",
       "       5.98580327e-04, 5.91857030e-04, 5.83651845e-04, 5.80761631e-04,\n",
       "       5.75233881e-04, 5.72629455e-04, 5.69686291e-04, 5.63929836e-04,\n",
       "       5.58807036e-04, 5.56567164e-04, 5.51706570e-04, 5.50203644e-04,\n",
       "       5.44643711e-04, 5.40723579e-04, 5.38777097e-04, 5.32445484e-04,\n",
       "       5.29543512e-04, 5.26201192e-04, 5.22384385e-04, 5.18817857e-04,\n",
       "       5.14804840e-04, 5.08332697e-04, 5.07345481e-04, 5.03104519e-04,\n",
       "       5.00768031e-04, 4.97042197e-04, 4.92308573e-04, 4.82836952e-04,\n",
       "       4.79554897e-04, 4.76912770e-04, 4.76002550e-04, 4.71104522e-04,\n",
       "       4.65999651e-04, 4.58821916e-04, 4.56747992e-04, 4.49406869e-04,\n",
       "       4.46581545e-04, 4.42655649e-04, 4.38385188e-04, 4.38194669e-04,\n",
       "       4.32324618e-04, 4.30700373e-04, 4.24770651e-04, 4.21254612e-04,\n",
       "       4.19234285e-04, 4.15178925e-04, 4.13275255e-04, 4.10348221e-04,\n",
       "       4.08452188e-04, 4.03769484e-04, 4.01530664e-04, 3.98452383e-04,\n",
       "       3.95260370e-04, 3.92093378e-04, 3.90083255e-04, 3.86733512e-04,\n",
       "       3.86206699e-04, 3.83033613e-04, 3.79052545e-04, 3.76053481e-04,\n",
       "       3.75229999e-04, 3.70518885e-04, 3.66553022e-04, 3.63808931e-04,\n",
       "       3.59468081e-04, 3.58256667e-04, 3.55090317e-04, 3.53726869e-04,\n",
       "       3.52500351e-04, 3.48450487e-04, 3.45270766e-04, 3.41972108e-04,\n",
       "       3.38996329e-04, 3.36546423e-04, 3.34797512e-04, 3.32341215e-04,\n",
       "       3.30096106e-04, 3.28801304e-04, 3.24948554e-04, 3.23091043e-04,\n",
       "       3.21549999e-04, 3.19330410e-04, 3.14955331e-04, 3.11147469e-04,\n",
       "       3.09910466e-04, 3.08832339e-04, 3.06475745e-04, 3.04602447e-04,\n",
       "       3.02166074e-04, 3.00485139e-04, 2.97699085e-04, 2.96507222e-04,\n",
       "       2.94381913e-04, 2.90274888e-04, 2.89891929e-04, 2.87456250e-04,\n",
       "       2.85534007e-04, 2.83582710e-04, 2.82367019e-04, 2.80188689e-04,\n",
       "       2.77317439e-04, 2.76485454e-04, 2.72503864e-04, 2.70523450e-04,\n",
       "       2.70037574e-04, 2.66001658e-04, 2.65727292e-04, 2.62994697e-04,\n",
       "       2.60021566e-04, 2.59336021e-04, 2.55640647e-04, 2.53839456e-04,\n",
       "       2.53070828e-04, 2.51249296e-04, 2.49732138e-04, 2.48268957e-04,\n",
       "       2.44424551e-04, 2.44022459e-04, 2.43259668e-04, 2.42242125e-04,\n",
       "       2.37773210e-04, 2.37020965e-04, 2.36186594e-04, 2.34954574e-04,\n",
       "       2.33114962e-04, 2.30620992e-04, 2.29707302e-04, 2.29059198e-04,\n",
       "       2.27134704e-04, 2.25591391e-04, 2.24796795e-04, 2.24158070e-04,\n",
       "       2.21743503e-04, 2.21393454e-04, 2.20104422e-04, 2.18274151e-04,\n",
       "       2.17179304e-04, 2.16259378e-04, 2.14719222e-04, 2.13355724e-04,\n",
       "       2.11566598e-04, 2.10480939e-04, 2.08622422e-04, 2.07084046e-04,\n",
       "       2.06225017e-04, 2.03734789e-04, 2.02691563e-04, 1.99950746e-04,\n",
       "       1.99834078e-04, 1.98222885e-04, 1.98036615e-04, 1.96254395e-04,\n",
       "       1.95397400e-04, 1.90572935e-04, 1.89984458e-04, 1.89109247e-04,\n",
       "       1.88644309e-04, 1.87215126e-04, 1.85164302e-04, 1.84912252e-04,\n",
       "       1.83366259e-04, 1.80638047e-04, 1.79136924e-04, 1.79070468e-04,\n",
       "       1.77556807e-04, 1.76246029e-04, 1.76033969e-04, 1.75095014e-04,\n",
       "       1.73224690e-04, 1.73139639e-04, 1.71065757e-04, 1.70429815e-04,\n",
       "       1.70102733e-04, 1.68660323e-04, 1.68278792e-04, 1.66931173e-04,\n",
       "       1.65987324e-04, 1.65433872e-04, 1.64737698e-04, 1.63827825e-04,\n",
       "       1.63645724e-04, 1.62791527e-04, 1.61606073e-04, 1.60560258e-04,\n",
       "       1.59098310e-04, 1.57161330e-04, 1.56415228e-04, 1.55451919e-04,\n",
       "       1.53885285e-04, 1.53679410e-04, 1.52369953e-04, 1.51249240e-04,\n",
       "       1.49944720e-04, 1.49402989e-04, 1.49099958e-04, 1.47983412e-04,\n",
       "       1.47273690e-04, 1.47218342e-04, 1.46736104e-04, 1.44912059e-04,\n",
       "       1.43608368e-04, 1.43482647e-04, 1.43001382e-04, 1.41531553e-04,\n",
       "       1.41227884e-04, 1.40885343e-04, 1.39593003e-04, 1.39452727e-04,\n",
       "       1.38259646e-04, 1.37614309e-04, 1.36847855e-04, 1.36155506e-04,\n",
       "       1.34200138e-04, 1.33989506e-04, 1.33460724e-04, 1.31737299e-04,\n",
       "       1.31280184e-04, 1.31020606e-04, 1.30363699e-04, 1.29884773e-04,\n",
       "       1.29369490e-04, 1.28129647e-04, 1.26939156e-04, 1.26560142e-04,\n",
       "       1.25733827e-04, 1.25051804e-04, 1.24432104e-04, 1.23746493e-04,\n",
       "       1.22810823e-04, 1.22771352e-04, 1.21970804e-04, 1.21836270e-04,\n",
       "       1.20347622e-04, 1.20179436e-04, 1.19383026e-04, 1.18833225e-04,\n",
       "       1.18055591e-04, 1.17784560e-04, 1.16695799e-04, 1.15879032e-04,\n",
       "       1.15145750e-04, 1.14154375e-04, 1.13903703e-04, 1.13183928e-04,\n",
       "       1.12500107e-04, 1.12235028e-04, 1.11379367e-04, 1.10943785e-04,\n",
       "       1.09816839e-04, 1.09405699e-04, 1.08831874e-04, 1.08370555e-04,\n",
       "       1.07844733e-04, 1.07157714e-04, 1.07098714e-04, 1.06894143e-04,\n",
       "       1.06350046e-04, 1.05643271e-04, 1.05282295e-04, 1.04765474e-04,\n",
       "       1.04116752e-04, 1.03267551e-04, 1.02978271e-04, 1.02552310e-04,\n",
       "       1.02220450e-04, 1.01724240e-04, 1.00701249e-04, 1.00012254e-04,\n",
       "       9.98179780e-05, 9.90655677e-05, 9.88486690e-05, 9.86744813e-05,\n",
       "       9.73925303e-05, 9.71772834e-05, 9.65150109e-05, 9.61333656e-05,\n",
       "       9.56346094e-05, 9.50492807e-05, 9.45613301e-05, 9.40324315e-05,\n",
       "       9.38780494e-05, 9.27958372e-05, 9.24093558e-05, 9.23645255e-05,\n",
       "       9.21223464e-05, 9.08771677e-05, 9.02503229e-05, 8.96519825e-05,\n",
       "       8.87755195e-05, 8.83401875e-05, 8.79082435e-05, 8.75143732e-05,\n",
       "       8.74794795e-05, 8.67946435e-05, 8.61437369e-05, 8.53018778e-05,\n",
       "       8.47857500e-05, 8.45283099e-05, 8.44385835e-05, 8.41477325e-05,\n",
       "       8.37261410e-05, 8.32172012e-05, 8.21464358e-05, 8.20946249e-05,\n",
       "       8.16598494e-05, 8.08833253e-05, 8.06733287e-05, 8.04023328e-05,\n",
       "       7.98822704e-05, 7.93308480e-05, 7.85542727e-05, 7.82820366e-05,\n",
       "       7.81375152e-05, 7.76632830e-05, 7.72264269e-05, 7.65272964e-05,\n",
       "       7.58658126e-05, 7.56644490e-05, 7.55536178e-05, 7.47336462e-05,\n",
       "       7.45909205e-05, 7.42948816e-05, 7.34033186e-05, 7.32986156e-05,\n",
       "       7.26052599e-05, 7.25738170e-05, 7.17970741e-05, 7.17037849e-05,\n",
       "       7.11953459e-05, 7.05005525e-05, 6.96105893e-05, 6.94215507e-05,\n",
       "       6.90893395e-05, 6.89629192e-05, 6.82846081e-05, 6.78872617e-05,\n",
       "       6.75667630e-05, 6.75050203e-05, 6.71058036e-05, 6.67299336e-05,\n",
       "       6.65237147e-05, 6.57564640e-05, 6.55132503e-05, 6.52493585e-05,\n",
       "       6.47360457e-05, 6.42192077e-05, 6.39711392e-05, 6.33712589e-05,\n",
       "       6.29150459e-05, 6.26263764e-05, 6.20589388e-05, 6.18876291e-05,\n",
       "       6.16073087e-05, 6.10999046e-05, 6.07305111e-05, 6.04809030e-05,\n",
       "       6.01226237e-05, 5.99565456e-05, 5.93166730e-05, 5.90434412e-05,\n",
       "       5.87061026e-05, 5.85767326e-05, 5.80149122e-05, 5.79550438e-05,\n",
       "       5.72759031e-05, 5.70344955e-05, 5.66467637e-05, 5.64019614e-05,\n",
       "       5.62659919e-05, 5.59893206e-05, 5.57265051e-05, 5.55816045e-05,\n",
       "       5.50516232e-05, 5.49181035e-05, 5.43504822e-05, 5.38971050e-05,\n",
       "       5.34888136e-05, 5.33904750e-05, 5.28155431e-05, 5.22995294e-05,\n",
       "       5.19998440e-05, 5.17603370e-05, 5.12326575e-05, 5.09921653e-05,\n",
       "       5.04705057e-05, 5.02004295e-05, 5.00915702e-05, 4.94596582e-05,\n",
       "       4.93748118e-05, 4.88636976e-05, 4.86042635e-05, 4.82712685e-05,\n",
       "       4.81504397e-05, 4.78555794e-05, 4.76267460e-05, 4.73553637e-05,\n",
       "       4.64897074e-05, 4.60836991e-05, 4.60692009e-05, 4.58267217e-05,\n",
       "       4.52803993e-05, 4.50628495e-05, 4.47743048e-05, 4.43414794e-05,\n",
       "       4.40107807e-05, 4.36581829e-05, 4.34299638e-05, 4.30521020e-05,\n",
       "       4.26871388e-05, 4.19374657e-05, 4.17906875e-05, 4.15543444e-05,\n",
       "       4.10480547e-05, 4.08125472e-05, 4.02832618e-05, 3.99555713e-05,\n",
       "       3.98470381e-05, 3.94829324e-05, 3.87982019e-05, 3.87138157e-05,\n",
       "       3.82739108e-05, 3.81959085e-05, 3.76707765e-05, 3.74382161e-05,\n",
       "       3.70438193e-05, 3.64337425e-05, 3.63722354e-05, 3.57126179e-05,\n",
       "       3.54471870e-05, 3.50130350e-05, 3.46755448e-05, 3.41236121e-05,\n",
       "       3.37821583e-05, 3.34062607e-05, 3.31880073e-05, 3.28970513e-05,\n",
       "       3.25464996e-05, 3.20761484e-05, 3.10524790e-05, 3.02166496e-05,\n",
       "       2.99854554e-05, 2.93884623e-05, 2.83010624e-05, 2.64206622e-05,\n",
       "       2.55534972e-05, 1.93660011e-05, 1.00032169e-05, 9.15688276e-06,\n",
       "       8.09861458e-31, 5.99413221e-33, 4.23201308e-33, 3.72589295e-33,\n",
       "       2.76157679e-33, 2.55792469e-33, 1.66115701e-33, 1.50223314e-33,\n",
       "       1.32451255e-33, 1.16634638e-33, 9.68805858e-34, 7.75551456e-34,\n",
       "       7.26495498e-34, 6.84805963e-34, 6.51349641e-34, 4.95749631e-34,\n",
       "       2.92824697e-34, 2.55002214e-34, 2.47505031e-34, 2.39110476e-34,\n",
       "       2.39110476e-34, 2.39110476e-34, 2.39110476e-34, 2.39110476e-34,\n",
       "       2.39110476e-34, 2.39110476e-34, 2.39110476e-34, 2.39110476e-34,\n",
       "       2.39110476e-34, 2.39110476e-34, 2.39110476e-34, 2.39110476e-34,\n",
       "       2.39110476e-34, 2.39110476e-34, 2.39110476e-34, 2.39110476e-34,\n",
       "       2.39110476e-34, 2.39110476e-34, 2.39110476e-34, 2.39110476e-34,\n",
       "       2.39110476e-34, 2.39110476e-34, 2.39110476e-34, 2.39110476e-34,\n",
       "       2.39110476e-34, 2.39110476e-34, 2.39110476e-34, 2.39110476e-34,\n",
       "       2.39110476e-34, 2.39110476e-34, 2.39110476e-34, 2.39110476e-34,\n",
       "       2.39110476e-34, 2.39110476e-34, 2.39110476e-34, 2.39110476e-34,\n",
       "       2.39110476e-34, 2.39110476e-34, 2.39110476e-34, 2.39110476e-34,\n",
       "       2.39110476e-34, 2.39110476e-34, 2.39110476e-34, 2.39110476e-34,\n",
       "       2.39110476e-34, 2.39110476e-34, 1.95260265e-34, 1.86133672e-34,\n",
       "       1.04604222e-34, 1.01839115e-34, 4.61478287e-35, 1.50132819e-36])"
      ]
     },
     "execution_count": 75,
     "metadata": {},
     "output_type": "execute_result"
    }
   ],
   "source": [
    "pca.explained_variance_ / np.sum(pca.explained_variance_)"
   ]
  },
  {
   "cell_type": "code",
   "execution_count": 76,
   "id": "f0cf12ce",
   "metadata": {},
   "outputs": [
    {
     "data": {
      "text/plain": [
       "array([5.64671692e-02, 4.07827199e-02, 3.73938042e-02, 2.88511485e-02,\n",
       "       2.52110863e-02, 2.19426996e-02, 1.92334439e-02, 1.74579923e-02,\n",
       "       1.53509230e-02, 1.40171960e-02, 1.34174302e-02, 1.20374194e-02,\n",
       "       1.11456955e-02, 1.08992356e-02, 1.02864922e-02, 9.94486564e-03,\n",
       "       9.36383280e-03, 9.21045666e-03, 8.93436778e-03, 8.69912619e-03,\n",
       "       8.27363019e-03, 8.03417369e-03, 7.64845500e-03, 7.41772464e-03,\n",
       "       7.15292868e-03, 6.91846831e-03, 6.84135964e-03, 6.56674546e-03,\n",
       "       6.31676724e-03, 6.12919839e-03, 5.96255295e-03, 5.87716416e-03,\n",
       "       5.71591699e-03, 5.62307416e-03, 5.54682002e-03, 5.38418374e-03,\n",
       "       5.31182250e-03, 5.19605602e-03, 5.08211255e-03, 4.80005571e-03,\n",
       "       4.76455820e-03, 4.69139360e-03, 4.54348956e-03, 4.51345787e-03,\n",
       "       4.46963401e-03, 4.43383155e-03, 4.38215469e-03, 4.30381751e-03,\n",
       "       4.26877901e-03, 4.23647017e-03, 4.04696121e-03, 3.99447403e-03,\n",
       "       3.97456119e-03, 3.93820800e-03, 3.85813590e-03, 3.79042674e-03,\n",
       "       3.75402681e-03, 3.70775845e-03, 3.64944381e-03, 3.59300573e-03,\n",
       "       3.52382166e-03, 3.47793645e-03, 3.44411308e-03, 3.39868117e-03,\n",
       "       3.35954544e-03, 3.34885955e-03, 3.31863689e-03, 3.23025954e-03,\n",
       "       3.16276973e-03, 3.13244250e-03, 3.10731431e-03, 3.07242899e-03,\n",
       "       3.04914199e-03, 3.02717181e-03, 2.99485323e-03, 2.97761173e-03,\n",
       "       2.95051565e-03, 2.90438134e-03, 2.86856189e-03, 2.85677747e-03,\n",
       "       2.83397779e-03, 2.82627143e-03, 2.79551057e-03, 2.79305359e-03,\n",
       "       2.78519192e-03, 2.77455466e-03, 2.75900805e-03, 2.74227323e-03,\n",
       "       2.71410605e-03, 2.69262948e-03, 2.66484337e-03, 2.63581290e-03,\n",
       "       2.62961589e-03, 2.61033820e-03, 2.58826934e-03, 2.56176419e-03,\n",
       "       2.53845859e-03, 2.50447261e-03, 2.47829391e-03, 2.45033552e-03,\n",
       "       2.42346674e-03, 2.42063796e-03, 2.38875442e-03, 2.37454706e-03,\n",
       "       2.35608411e-03, 2.33053226e-03, 2.27980069e-03, 2.26174216e-03,\n",
       "       2.22831536e-03, 2.22442133e-03, 2.18169379e-03, 2.17256803e-03,\n",
       "       2.14276795e-03, 2.11937711e-03, 2.10972018e-03, 2.07330213e-03,\n",
       "       2.04761134e-03, 2.04368197e-03, 2.02408502e-03, 2.00462169e-03,\n",
       "       1.98821976e-03, 1.95215574e-03, 1.93737315e-03, 1.92103229e-03,\n",
       "       1.91715873e-03, 1.89802101e-03, 1.87089479e-03, 1.86535675e-03,\n",
       "       1.81319976e-03, 1.80005268e-03, 1.79194040e-03, 1.78973224e-03,\n",
       "       1.76950445e-03, 1.76157710e-03, 1.74796770e-03, 1.72984728e-03,\n",
       "       1.72016644e-03, 1.68727125e-03, 1.68516985e-03, 1.66841509e-03,\n",
       "       1.64718445e-03, 1.64574944e-03, 1.64293577e-03, 1.61485783e-03,\n",
       "       1.60490264e-03, 1.58912270e-03, 1.57489525e-03, 1.55917747e-03,\n",
       "       1.55637950e-03, 1.54665655e-03, 1.54042901e-03, 1.51604652e-03,\n",
       "       1.50271567e-03, 1.48760565e-03, 1.47505430e-03, 1.46820162e-03,\n",
       "       1.45802783e-03, 1.45567656e-03, 1.44736835e-03, 1.42895145e-03,\n",
       "       1.41057816e-03, 1.39938608e-03, 1.39709226e-03, 1.39533037e-03,\n",
       "       1.39354988e-03, 1.39225175e-03, 1.38773151e-03, 1.38339674e-03,\n",
       "       1.37816069e-03, 1.36844702e-03, 1.36165499e-03, 1.35822407e-03,\n",
       "       1.33701334e-03, 1.32905439e-03, 1.31059437e-03, 1.30293154e-03,\n",
       "       1.29324334e-03, 1.28240697e-03, 1.27406762e-03, 1.26822152e-03,\n",
       "       1.25321737e-03, 1.24044776e-03, 1.22983532e-03, 1.21617954e-03,\n",
       "       1.21506257e-03, 1.20002486e-03, 1.19086914e-03, 1.18894490e-03,\n",
       "       1.17604162e-03, 1.16760206e-03, 1.16233903e-03, 1.14798282e-03,\n",
       "       1.13703534e-03, 1.12719891e-03, 1.12055208e-03, 1.09408772e-03,\n",
       "       1.08545551e-03, 1.07028452e-03, 1.06401116e-03, 1.05474462e-03,\n",
       "       1.04628483e-03, 1.03603841e-03, 1.03268067e-03, 1.02073235e-03,\n",
       "       1.00824777e-03, 1.00157893e-03, 9.97858606e-04, 9.91933313e-04,\n",
       "       9.77274639e-04, 9.68493765e-04, 9.58048757e-04, 9.56367936e-04,\n",
       "       9.47728406e-04, 9.46473246e-04, 9.43704990e-04, 9.26746176e-04,\n",
       "       9.17402333e-04, 9.08678198e-04, 8.97469656e-04, 8.91566644e-04,\n",
       "       8.87810702e-04, 8.78886491e-04, 8.69155717e-04, 8.62123529e-04,\n",
       "       8.60557703e-04, 8.45352966e-04, 8.40091864e-04, 8.35725753e-04,\n",
       "       8.24022474e-04, 8.20780361e-04, 8.12967854e-04, 8.10186461e-04,\n",
       "       7.91970503e-04, 7.83284480e-04, 7.78764350e-04, 7.71504273e-04,\n",
       "       7.66371667e-04, 7.50170334e-04, 7.43535625e-04, 7.38993635e-04,\n",
       "       7.32431189e-04, 7.27073859e-04, 7.25535584e-04, 7.16772908e-04,\n",
       "       7.11041349e-04, 7.02519051e-04, 6.94517740e-04, 6.94156822e-04,\n",
       "       6.79466899e-04, 6.78415578e-04, 6.76395480e-04, 6.71492446e-04,\n",
       "       6.63285597e-04, 6.55073097e-04, 6.51828065e-04, 6.44496102e-04,\n",
       "       6.41336819e-04, 6.36327233e-04, 6.32129287e-04, 6.27868337e-04,\n",
       "       6.24059952e-04, 6.20206461e-04, 6.09021758e-04, 6.05853419e-04,\n",
       "       5.98580327e-04, 5.91857030e-04, 5.83651845e-04, 5.80761631e-04,\n",
       "       5.75233881e-04, 5.72629455e-04, 5.69686291e-04, 5.63929836e-04,\n",
       "       5.58807036e-04, 5.56567164e-04, 5.51706570e-04, 5.50203644e-04,\n",
       "       5.44643711e-04, 5.40723579e-04, 5.38777097e-04, 5.32445484e-04,\n",
       "       5.29543512e-04, 5.26201192e-04, 5.22384385e-04, 5.18817857e-04,\n",
       "       5.14804840e-04, 5.08332697e-04, 5.07345481e-04, 5.03104519e-04,\n",
       "       5.00768031e-04, 4.97042197e-04, 4.92308573e-04, 4.82836952e-04,\n",
       "       4.79554897e-04, 4.76912770e-04, 4.76002550e-04, 4.71104522e-04,\n",
       "       4.65999651e-04, 4.58821916e-04, 4.56747992e-04, 4.49406869e-04,\n",
       "       4.46581545e-04, 4.42655649e-04, 4.38385188e-04, 4.38194669e-04,\n",
       "       4.32324618e-04, 4.30700373e-04, 4.24770651e-04, 4.21254612e-04,\n",
       "       4.19234285e-04, 4.15178925e-04, 4.13275255e-04, 4.10348221e-04,\n",
       "       4.08452188e-04, 4.03769484e-04, 4.01530664e-04, 3.98452383e-04,\n",
       "       3.95260370e-04, 3.92093378e-04, 3.90083255e-04, 3.86733512e-04,\n",
       "       3.86206699e-04, 3.83033613e-04, 3.79052545e-04, 3.76053481e-04,\n",
       "       3.75229999e-04, 3.70518885e-04, 3.66553022e-04, 3.63808931e-04,\n",
       "       3.59468081e-04, 3.58256667e-04, 3.55090317e-04, 3.53726869e-04,\n",
       "       3.52500351e-04, 3.48450487e-04, 3.45270766e-04, 3.41972108e-04,\n",
       "       3.38996329e-04, 3.36546423e-04, 3.34797512e-04, 3.32341215e-04,\n",
       "       3.30096106e-04, 3.28801304e-04, 3.24948554e-04, 3.23091043e-04,\n",
       "       3.21549999e-04, 3.19330410e-04, 3.14955331e-04, 3.11147469e-04,\n",
       "       3.09910466e-04, 3.08832339e-04, 3.06475745e-04, 3.04602447e-04,\n",
       "       3.02166074e-04, 3.00485139e-04, 2.97699085e-04, 2.96507222e-04,\n",
       "       2.94381913e-04, 2.90274888e-04, 2.89891929e-04, 2.87456250e-04,\n",
       "       2.85534007e-04, 2.83582710e-04, 2.82367019e-04, 2.80188689e-04,\n",
       "       2.77317439e-04, 2.76485454e-04, 2.72503864e-04, 2.70523450e-04,\n",
       "       2.70037574e-04, 2.66001658e-04, 2.65727292e-04, 2.62994697e-04,\n",
       "       2.60021566e-04, 2.59336021e-04, 2.55640647e-04, 2.53839456e-04,\n",
       "       2.53070828e-04, 2.51249296e-04, 2.49732138e-04, 2.48268957e-04,\n",
       "       2.44424551e-04, 2.44022459e-04, 2.43259668e-04, 2.42242125e-04,\n",
       "       2.37773210e-04, 2.37020965e-04, 2.36186594e-04, 2.34954574e-04,\n",
       "       2.33114962e-04, 2.30620992e-04, 2.29707302e-04, 2.29059198e-04,\n",
       "       2.27134704e-04, 2.25591391e-04, 2.24796795e-04, 2.24158070e-04,\n",
       "       2.21743503e-04, 2.21393454e-04, 2.20104422e-04, 2.18274151e-04,\n",
       "       2.17179304e-04, 2.16259378e-04, 2.14719222e-04, 2.13355724e-04,\n",
       "       2.11566598e-04, 2.10480939e-04, 2.08622422e-04, 2.07084046e-04,\n",
       "       2.06225017e-04, 2.03734789e-04, 2.02691563e-04, 1.99950746e-04,\n",
       "       1.99834078e-04, 1.98222885e-04, 1.98036615e-04, 1.96254395e-04,\n",
       "       1.95397400e-04, 1.90572935e-04, 1.89984458e-04, 1.89109247e-04,\n",
       "       1.88644309e-04, 1.87215126e-04, 1.85164302e-04, 1.84912252e-04,\n",
       "       1.83366259e-04, 1.80638047e-04, 1.79136924e-04, 1.79070468e-04,\n",
       "       1.77556807e-04, 1.76246029e-04, 1.76033969e-04, 1.75095014e-04,\n",
       "       1.73224690e-04, 1.73139639e-04, 1.71065757e-04, 1.70429815e-04,\n",
       "       1.70102733e-04, 1.68660323e-04, 1.68278792e-04, 1.66931173e-04,\n",
       "       1.65987324e-04, 1.65433872e-04, 1.64737698e-04, 1.63827825e-04,\n",
       "       1.63645724e-04, 1.62791527e-04, 1.61606073e-04, 1.60560258e-04,\n",
       "       1.59098310e-04, 1.57161330e-04, 1.56415228e-04, 1.55451919e-04,\n",
       "       1.53885285e-04, 1.53679410e-04, 1.52369953e-04, 1.51249240e-04,\n",
       "       1.49944720e-04, 1.49402989e-04, 1.49099958e-04, 1.47983412e-04,\n",
       "       1.47273690e-04, 1.47218342e-04, 1.46736104e-04, 1.44912059e-04,\n",
       "       1.43608368e-04, 1.43482647e-04, 1.43001382e-04, 1.41531553e-04,\n",
       "       1.41227884e-04, 1.40885343e-04, 1.39593003e-04, 1.39452727e-04,\n",
       "       1.38259646e-04, 1.37614309e-04, 1.36847855e-04, 1.36155506e-04,\n",
       "       1.34200138e-04, 1.33989506e-04, 1.33460724e-04, 1.31737299e-04,\n",
       "       1.31280184e-04, 1.31020606e-04, 1.30363699e-04, 1.29884773e-04,\n",
       "       1.29369490e-04, 1.28129647e-04, 1.26939156e-04, 1.26560142e-04,\n",
       "       1.25733827e-04, 1.25051804e-04, 1.24432104e-04, 1.23746493e-04,\n",
       "       1.22810823e-04, 1.22771352e-04, 1.21970804e-04, 1.21836270e-04,\n",
       "       1.20347622e-04, 1.20179436e-04, 1.19383026e-04, 1.18833225e-04,\n",
       "       1.18055591e-04, 1.17784560e-04, 1.16695799e-04, 1.15879032e-04,\n",
       "       1.15145750e-04, 1.14154375e-04, 1.13903703e-04, 1.13183928e-04,\n",
       "       1.12500107e-04, 1.12235028e-04, 1.11379367e-04, 1.10943785e-04,\n",
       "       1.09816839e-04, 1.09405699e-04, 1.08831874e-04, 1.08370555e-04,\n",
       "       1.07844733e-04, 1.07157714e-04, 1.07098714e-04, 1.06894143e-04,\n",
       "       1.06350046e-04, 1.05643271e-04, 1.05282295e-04, 1.04765474e-04,\n",
       "       1.04116752e-04, 1.03267551e-04, 1.02978271e-04, 1.02552310e-04,\n",
       "       1.02220450e-04, 1.01724240e-04, 1.00701249e-04, 1.00012254e-04,\n",
       "       9.98179780e-05, 9.90655677e-05, 9.88486690e-05, 9.86744813e-05,\n",
       "       9.73925303e-05, 9.71772834e-05, 9.65150109e-05, 9.61333656e-05,\n",
       "       9.56346094e-05, 9.50492807e-05, 9.45613301e-05, 9.40324315e-05,\n",
       "       9.38780494e-05, 9.27958372e-05, 9.24093558e-05, 9.23645255e-05,\n",
       "       9.21223464e-05, 9.08771677e-05, 9.02503229e-05, 8.96519825e-05,\n",
       "       8.87755195e-05, 8.83401875e-05, 8.79082435e-05, 8.75143732e-05,\n",
       "       8.74794795e-05, 8.67946435e-05, 8.61437369e-05, 8.53018778e-05,\n",
       "       8.47857500e-05, 8.45283099e-05, 8.44385835e-05, 8.41477325e-05,\n",
       "       8.37261410e-05, 8.32172012e-05, 8.21464358e-05, 8.20946249e-05,\n",
       "       8.16598494e-05, 8.08833253e-05, 8.06733287e-05, 8.04023328e-05,\n",
       "       7.98822704e-05, 7.93308480e-05, 7.85542727e-05, 7.82820366e-05,\n",
       "       7.81375152e-05, 7.76632830e-05, 7.72264269e-05, 7.65272964e-05,\n",
       "       7.58658126e-05, 7.56644490e-05, 7.55536178e-05, 7.47336462e-05,\n",
       "       7.45909205e-05, 7.42948816e-05, 7.34033186e-05, 7.32986156e-05,\n",
       "       7.26052599e-05, 7.25738170e-05, 7.17970741e-05, 7.17037849e-05,\n",
       "       7.11953459e-05, 7.05005525e-05, 6.96105893e-05, 6.94215507e-05,\n",
       "       6.90893395e-05, 6.89629192e-05, 6.82846081e-05, 6.78872617e-05,\n",
       "       6.75667630e-05, 6.75050203e-05, 6.71058036e-05, 6.67299336e-05,\n",
       "       6.65237147e-05, 6.57564640e-05, 6.55132503e-05, 6.52493585e-05,\n",
       "       6.47360457e-05, 6.42192077e-05, 6.39711392e-05, 6.33712589e-05,\n",
       "       6.29150459e-05, 6.26263764e-05, 6.20589388e-05, 6.18876291e-05,\n",
       "       6.16073087e-05, 6.10999046e-05, 6.07305111e-05, 6.04809030e-05,\n",
       "       6.01226237e-05, 5.99565456e-05, 5.93166730e-05, 5.90434412e-05,\n",
       "       5.87061026e-05, 5.85767326e-05, 5.80149122e-05, 5.79550438e-05,\n",
       "       5.72759031e-05, 5.70344955e-05, 5.66467637e-05, 5.64019614e-05,\n",
       "       5.62659919e-05, 5.59893206e-05, 5.57265051e-05, 5.55816045e-05,\n",
       "       5.50516232e-05, 5.49181035e-05, 5.43504822e-05, 5.38971050e-05,\n",
       "       5.34888136e-05, 5.33904750e-05, 5.28155431e-05, 5.22995294e-05,\n",
       "       5.19998440e-05, 5.17603370e-05, 5.12326575e-05, 5.09921653e-05,\n",
       "       5.04705057e-05, 5.02004295e-05, 5.00915702e-05, 4.94596582e-05,\n",
       "       4.93748118e-05, 4.88636976e-05, 4.86042635e-05, 4.82712685e-05,\n",
       "       4.81504397e-05, 4.78555794e-05, 4.76267460e-05, 4.73553637e-05,\n",
       "       4.64897074e-05, 4.60836991e-05, 4.60692009e-05, 4.58267217e-05,\n",
       "       4.52803993e-05, 4.50628495e-05, 4.47743048e-05, 4.43414794e-05,\n",
       "       4.40107807e-05, 4.36581829e-05, 4.34299638e-05, 4.30521020e-05,\n",
       "       4.26871388e-05, 4.19374657e-05, 4.17906875e-05, 4.15543444e-05,\n",
       "       4.10480547e-05, 4.08125472e-05, 4.02832618e-05, 3.99555713e-05,\n",
       "       3.98470381e-05, 3.94829324e-05, 3.87982019e-05, 3.87138157e-05,\n",
       "       3.82739108e-05, 3.81959085e-05, 3.76707765e-05, 3.74382161e-05,\n",
       "       3.70438193e-05, 3.64337425e-05, 3.63722354e-05, 3.57126179e-05,\n",
       "       3.54471870e-05, 3.50130350e-05, 3.46755448e-05, 3.41236121e-05,\n",
       "       3.37821583e-05, 3.34062607e-05, 3.31880073e-05, 3.28970513e-05,\n",
       "       3.25464996e-05, 3.20761484e-05, 3.10524790e-05, 3.02166496e-05,\n",
       "       2.99854554e-05, 2.93884623e-05, 2.83010624e-05, 2.64206622e-05,\n",
       "       2.55534972e-05, 1.93660011e-05, 1.00032169e-05, 9.15688276e-06,\n",
       "       8.09861458e-31, 5.99413221e-33, 4.23201308e-33, 3.72589295e-33,\n",
       "       2.76157679e-33, 2.55792469e-33, 1.66115701e-33, 1.50223314e-33,\n",
       "       1.32451255e-33, 1.16634638e-33, 9.68805858e-34, 7.75551456e-34,\n",
       "       7.26495498e-34, 6.84805963e-34, 6.51349641e-34, 4.95749631e-34,\n",
       "       2.92824697e-34, 2.55002214e-34, 2.47505031e-34, 2.39110476e-34,\n",
       "       2.39110476e-34, 2.39110476e-34, 2.39110476e-34, 2.39110476e-34,\n",
       "       2.39110476e-34, 2.39110476e-34, 2.39110476e-34, 2.39110476e-34,\n",
       "       2.39110476e-34, 2.39110476e-34, 2.39110476e-34, 2.39110476e-34,\n",
       "       2.39110476e-34, 2.39110476e-34, 2.39110476e-34, 2.39110476e-34,\n",
       "       2.39110476e-34, 2.39110476e-34, 2.39110476e-34, 2.39110476e-34,\n",
       "       2.39110476e-34, 2.39110476e-34, 2.39110476e-34, 2.39110476e-34,\n",
       "       2.39110476e-34, 2.39110476e-34, 2.39110476e-34, 2.39110476e-34,\n",
       "       2.39110476e-34, 2.39110476e-34, 2.39110476e-34, 2.39110476e-34,\n",
       "       2.39110476e-34, 2.39110476e-34, 2.39110476e-34, 2.39110476e-34,\n",
       "       2.39110476e-34, 2.39110476e-34, 2.39110476e-34, 2.39110476e-34,\n",
       "       2.39110476e-34, 2.39110476e-34, 2.39110476e-34, 2.39110476e-34,\n",
       "       2.39110476e-34, 2.39110476e-34, 1.95260265e-34, 1.86133672e-34,\n",
       "       1.04604222e-34, 1.01839115e-34, 4.61478287e-35, 1.50132819e-36])"
      ]
     },
     "execution_count": 76,
     "metadata": {},
     "output_type": "execute_result"
    }
   ],
   "source": [
    "pca.explained_variance_ratio_"
   ]
  },
  {
   "cell_type": "code",
   "execution_count": 77,
   "id": "a1527f52",
   "metadata": {},
   "outputs": [],
   "source": [
    "cumulative_variance_explained = np.cumsum(pca.explained_variance_ratio_)"
   ]
  },
  {
   "cell_type": "code",
   "execution_count": 78,
   "id": "58f82a36",
   "metadata": {
    "scrolled": true
   },
   "outputs": [
    {
     "data": {
      "text/plain": [
       "array([0.05646717, 0.09724989, 0.13464369, 0.16349484, 0.18870593,\n",
       "       0.21064863, 0.22988207, 0.24734006, 0.26269099, 0.27670818,\n",
       "       0.29012561, 0.30216303, 0.31330873, 0.32420796, 0.33449446,\n",
       "       0.34443932, 0.35380315, 0.36301361, 0.37194798, 0.3806471 ,\n",
       "       0.38892074, 0.39695491, 0.40460336, 0.41202109, 0.41917402,\n",
       "       0.42609249, 0.43293384, 0.43950059, 0.44581736, 0.45194656,\n",
       "       0.45790911, 0.46378627, 0.46950219, 0.47512526, 0.48067208,\n",
       "       0.48605627, 0.49136809, 0.49656415, 0.50164626, 0.50644631,\n",
       "       0.51121087, 0.51590227, 0.52044576, 0.52495921, 0.52942885,\n",
       "       0.53386268, 0.53824483, 0.54254865, 0.54681743, 0.5510539 ,\n",
       "       0.55510086, 0.55909534, 0.5630699 , 0.56700811, 0.57086624,\n",
       "       0.57465667, 0.57841069, 0.58211845, 0.5857679 , 0.5893609 ,\n",
       "       0.59288472, 0.59636266, 0.59980677, 0.60320546, 0.606565  ,\n",
       "       0.60991386, 0.6132325 , 0.61646276, 0.61962553, 0.62275797,\n",
       "       0.62586528, 0.62893771, 0.63198685, 0.63501403, 0.63800888,\n",
       "       0.64098649, 0.64393701, 0.64684139, 0.64970995, 0.65256673,\n",
       "       0.65540071, 0.65822698, 0.66102249, 0.66381554, 0.66660073,\n",
       "       0.66937529, 0.6721343 , 0.67487657, 0.67759067, 0.6802833 ,\n",
       "       0.68294815, 0.68558396, 0.68821358, 0.69082391, 0.69341218,\n",
       "       0.69597395, 0.69851241, 0.70101688, 0.70349517, 0.70594551,\n",
       "       0.70836898, 0.71078961, 0.71317837, 0.71555291, 0.717909  ,\n",
       "       0.72023953, 0.72251933, 0.72478107, 0.72700939, 0.72923381,\n",
       "       0.7314155 , 0.73358807, 0.73573084, 0.73785022, 0.73995994,\n",
       "       0.74203324, 0.74408085, 0.74612453, 0.74814862, 0.75015324,\n",
       "       0.75214146, 0.75409362, 0.75603099, 0.75795202, 0.75986918,\n",
       "       0.7617672 , 0.7636381 , 0.76550345, 0.76731665, 0.7691167 ,\n",
       "       0.77090864, 0.77269838, 0.77446788, 0.77622946, 0.77797743,\n",
       "       0.77970727, 0.78142744, 0.78311471, 0.78479988, 0.7864683 ,\n",
       "       0.78811548, 0.78976123, 0.79140417, 0.79301902, 0.79462393,\n",
       "       0.79621305, 0.79778794, 0.79934712, 0.8009035 , 0.80245016,\n",
       "       0.80399059, 0.80550663, 0.80700935, 0.80849695, 0.80997201,\n",
       "       0.81144021, 0.81289824, 0.81435392, 0.81580128, 0.81723023,\n",
       "       0.81864081, 0.8200402 , 0.82143729, 0.82283262, 0.82422617,\n",
       "       0.82561842, 0.82700615, 0.82838955, 0.82976771, 0.83113616,\n",
       "       0.83249781, 0.83385604, 0.83519305, 0.83652211, 0.8378327 ,\n",
       "       0.83913563, 0.84042888, 0.84171128, 0.84298535, 0.84425357,\n",
       "       0.84550679, 0.84674724, 0.84797707, 0.84919325, 0.85040831,\n",
       "       0.85160834, 0.85279921, 0.85398815, 0.85516419, 0.8563318 ,\n",
       "       0.85749414, 0.85864212, 0.85977915, 0.86090635, 0.8620269 ,\n",
       "       0.86312099, 0.86420645, 0.86527673, 0.86634074, 0.86739549,\n",
       "       0.86844177, 0.86947781, 0.87051049, 0.87153122, 0.87253947,\n",
       "       0.87354105, 0.87453891, 0.87553084, 0.87650812, 0.87747661,\n",
       "       0.87843466, 0.87939103, 0.88033876, 0.88128523, 0.88222894,\n",
       "       0.88315568, 0.88407308, 0.88498176, 0.88587923, 0.8867708 ,\n",
       "       0.88765861, 0.8885375 , 0.88940665, 0.89026877, 0.89112933,\n",
       "       0.89197469, 0.89281478, 0.8936505 , 0.89447453, 0.89529531,\n",
       "       0.89610827, 0.89691846, 0.89771043, 0.89849371, 0.89927248,\n",
       "       0.90004398, 0.90081036, 0.90156053, 0.90230406, 0.90304305,\n",
       "       0.90377549, 0.90450256, 0.9052281 , 0.90594487, 0.90665591,\n",
       "       0.90735843, 0.90805295, 0.9087471 , 0.90942657, 0.91010499,\n",
       "       0.91078138, 0.91145287, 0.91211616, 0.91277123, 0.91342306,\n",
       "       0.91406756, 0.91470889, 0.91534522, 0.91597735, 0.91660522,\n",
       "       0.91722928, 0.91784948, 0.91845851, 0.91906436, 0.91966294,\n",
       "       0.9202548 , 0.92083845, 0.92141921, 0.92199444, 0.92256707,\n",
       "       0.92313676, 0.92370069, 0.9242595 , 0.92481606, 0.92536777,\n",
       "       0.92591797, 0.92646262, 0.92700334, 0.92754212, 0.92807456,\n",
       "       0.92860411, 0.92913031, 0.92965269, 0.93017151, 0.93068632,\n",
       "       0.93119465, 0.93170199, 0.9322051 , 0.93270587, 0.93320291,\n",
       "       0.93369522, 0.93417805, 0.93465761, 0.93513452, 0.93561052,\n",
       "       0.93608163, 0.93654763, 0.93700645, 0.9374632 , 0.93791261,\n",
       "       0.93835919, 0.93880184, 0.93924023, 0.93967842, 0.94011075,\n",
       "       0.94054145, 0.94096622, 0.94138747, 0.94180671, 0.94222189,\n",
       "       0.94263516, 0.94304551, 0.94345396, 0.94385773, 0.94425926,\n",
       "       0.94465771, 0.94505297, 0.94544507, 0.94583515, 0.94622188,\n",
       "       0.94660809, 0.94699113, 0.94737018, 0.94774623, 0.94812146,\n",
       "       0.94849198, 0.94885853, 0.94922234, 0.94958181, 0.94994007,\n",
       "       0.95029516, 0.95064888, 0.95100138, 0.95134983, 0.95169511,\n",
       "       0.95203708, 0.95237607, 0.95271262, 0.95304742, 0.95337976,\n",
       "       0.95370986, 0.95403866, 0.95436361, 0.9546867 , 0.95500825,\n",
       "       0.95532758, 0.95564253, 0.95595368, 0.95626359, 0.95657242,\n",
       "       0.9568789 , 0.9571835 , 0.95748567, 0.95778615, 0.95808385,\n",
       "       0.95838036, 0.95867474, 0.95896501, 0.95925491, 0.95954236,\n",
       "       0.9598279 , 0.96011148, 0.96039385, 0.96067404, 0.96095135,\n",
       "       0.96122784, 0.96150034, 0.96177087, 0.9620409 , 0.9623069 ,\n",
       "       0.96257263, 0.96283563, 0.96309565, 0.96335498, 0.96361063,\n",
       "       0.96386446, 0.96411754, 0.96436878, 0.96461852, 0.96486679,\n",
       "       0.96511121, 0.96535523, 0.96559849, 0.96584073, 0.96607851,\n",
       "       0.96631553, 0.96655172, 0.96678667, 0.96701978, 0.96725041,\n",
       "       0.96748011, 0.96770917, 0.96793631, 0.9681619 , 0.9683867 ,\n",
       "       0.96861085, 0.9688326 , 0.96905399, 0.96927409, 0.96949237,\n",
       "       0.96970955, 0.96992581, 0.97014053, 0.97035388, 0.97056545,\n",
       "       0.97077593, 0.97098455, 0.97119164, 0.97139786, 0.9716016 ,\n",
       "       0.97180429, 0.97200424, 0.97220407, 0.9724023 , 0.97260033,\n",
       "       0.97279659, 0.97299198, 0.97318256, 0.97337254, 0.97356165,\n",
       "       0.97375029, 0.97393751, 0.97412267, 0.97430759, 0.97449095,\n",
       "       0.97467159, 0.97485073, 0.9750298 , 0.97520736, 0.9753836 ,\n",
       "       0.97555964, 0.97573473, 0.97590795, 0.97608109, 0.97625216,\n",
       "       0.97642259, 0.97659269, 0.97676135, 0.97692963, 0.97709656,\n",
       "       0.97726255, 0.97742798, 0.97759272, 0.97775655, 0.9779202 ,\n",
       "       0.97808299, 0.97824459, 0.97840515, 0.97856425, 0.97872141,\n",
       "       0.97887783, 0.97903328, 0.97918717, 0.97934084, 0.97949321,\n",
       "       0.97964446, 0.97979441, 0.97994381, 0.98009291, 0.9802409 ,\n",
       "       0.98038817, 0.98053539, 0.98068212, 0.98082704, 0.98097064,\n",
       "       0.98111413, 0.98125713, 0.98139866, 0.98153989, 0.98168077,\n",
       "       0.98182037, 0.98195982, 0.98209808, 0.98223569, 0.98237254,\n",
       "       0.9825087 , 0.9826429 , 0.98277689, 0.98291035, 0.98304208,\n",
       "       0.98317336, 0.98330438, 0.98343475, 0.98356463, 0.983694  ,\n",
       "       0.98382213, 0.98394907, 0.98407563, 0.98420136, 0.98432642,\n",
       "       0.98445085, 0.9845746 , 0.98469741, 0.98482018, 0.98494215,\n",
       "       0.98506398, 0.98518433, 0.98530451, 0.98542389, 0.98554273,\n",
       "       0.98566078, 0.98577857, 0.98589526, 0.98601114, 0.98612629,\n",
       "       0.98624044, 0.98635435, 0.98646753, 0.98658003, 0.98669227,\n",
       "       0.98680364, 0.98691459, 0.98702441, 0.98713381, 0.98724264,\n",
       "       0.98735101, 0.98745886, 0.98756602, 0.98767311, 0.98778001,\n",
       "       0.98788636, 0.987992  , 0.98809728, 0.98820205, 0.98830617,\n",
       "       0.98840943, 0.98851241, 0.98861496, 0.98871719, 0.98881891,\n",
       "       0.98891961, 0.98901962, 0.98911944, 0.98921851, 0.98931736,\n",
       "       0.98941603, 0.98951342, 0.9896106 , 0.98970711, 0.98980325,\n",
       "       0.98989888, 0.98999393, 0.99008849, 0.99018253, 0.9902764 ,\n",
       "       0.9903692 , 0.99046161, 0.99055397, 0.9906461 , 0.99073697,\n",
       "       0.99082722, 0.99091688, 0.99100565, 0.99109399, 0.9911819 ,\n",
       "       0.99126941, 0.99135689, 0.99144369, 0.99152983, 0.99161513,\n",
       "       0.99169992, 0.99178445, 0.99186889, 0.99195303, 0.99203676,\n",
       "       0.99211998, 0.99220212, 0.99228422, 0.99236588, 0.99244676,\n",
       "       0.99252743, 0.99260784, 0.99268772, 0.99276705, 0.9928456 ,\n",
       "       0.99292389, 0.99300202, 0.99307969, 0.99315691, 0.99323344,\n",
       "       0.99330931, 0.99338497, 0.99346052, 0.99353526, 0.99360985,\n",
       "       0.99368414, 0.99375755, 0.99383085, 0.99390345, 0.99397603,\n",
       "       0.99404782, 0.99411953, 0.99419072, 0.99426122, 0.99433083,\n",
       "       0.99440025, 0.99446934, 0.99453831, 0.99460659, 0.99467448,\n",
       "       0.99474205, 0.99480955, 0.99487666, 0.99494339, 0.99500991,\n",
       "       0.99507567, 0.99514118, 0.99520643, 0.99527116, 0.99533538,\n",
       "       0.99539935, 0.99546273, 0.99552564, 0.99558827, 0.99565033,\n",
       "       0.99571221, 0.99577382, 0.99583492, 0.99589565, 0.99595613,\n",
       "       0.99601626, 0.99607621, 0.99613553, 0.99619457, 0.99625328,\n",
       "       0.99631185, 0.99636987, 0.99642782, 0.9964851 , 0.99654214,\n",
       "       0.99659878, 0.99665518, 0.99671145, 0.99676744, 0.99682317,\n",
       "       0.99687875, 0.9969338 , 0.99698872, 0.99704307, 0.99709696,\n",
       "       0.99715045, 0.99720384, 0.99725666, 0.99730896, 0.99736096,\n",
       "       0.99741272, 0.99746395, 0.99751494, 0.99756541, 0.99761562,\n",
       "       0.99766571, 0.99771517, 0.99776454, 0.9978134 , 0.99786201,\n",
       "       0.99791028, 0.99795843, 0.99800629, 0.99805391, 0.99810127,\n",
       "       0.99814776, 0.99819384, 0.99823991, 0.99828574, 0.99833102,\n",
       "       0.99837608, 0.99842086, 0.9984652 , 0.99850921, 0.99855287,\n",
       "       0.9985963 , 0.99863935, 0.99868203, 0.99872397, 0.99876576,\n",
       "       0.99880732, 0.99884837, 0.99888918, 0.99892946, 0.99896942,\n",
       "       0.99900926, 0.99904875, 0.99908755, 0.99912626, 0.99916453,\n",
       "       0.99920273, 0.9992404 , 0.99927784, 0.99931488, 0.99935132,\n",
       "       0.99938769, 0.9994234 , 0.99945885, 0.99949386, 0.99952854,\n",
       "       0.99956266, 0.99959644, 0.99962985, 0.99966304, 0.99969593,\n",
       "       0.99972848, 0.99976056, 0.99979161, 0.99982182, 0.99985181,\n",
       "       0.9998812 , 0.9999095 , 0.99993592, 0.99996147, 0.99998084,\n",
       "       0.99999084, 1.        , 1.        , 1.        , 1.        ,\n",
       "       1.        , 1.        , 1.        , 1.        , 1.        ,\n",
       "       1.        , 1.        , 1.        , 1.        , 1.        ,\n",
       "       1.        , 1.        , 1.        , 1.        , 1.        ,\n",
       "       1.        , 1.        , 1.        , 1.        , 1.        ,\n",
       "       1.        , 1.        , 1.        , 1.        , 1.        ,\n",
       "       1.        , 1.        , 1.        , 1.        , 1.        ,\n",
       "       1.        , 1.        , 1.        , 1.        , 1.        ,\n",
       "       1.        , 1.        , 1.        , 1.        , 1.        ,\n",
       "       1.        , 1.        , 1.        , 1.        , 1.        ,\n",
       "       1.        , 1.        , 1.        , 1.        , 1.        ,\n",
       "       1.        , 1.        , 1.        , 1.        , 1.        ,\n",
       "       1.        , 1.        , 1.        , 1.        , 1.        ,\n",
       "       1.        , 1.        , 1.        , 1.        , 1.        ,\n",
       "       1.        , 1.        , 1.        , 1.        ])"
      ]
     },
     "execution_count": 78,
     "metadata": {},
     "output_type": "execute_result"
    }
   ],
   "source": [
    "cumulative_variance_explained"
   ]
  },
  {
   "cell_type": "code",
   "execution_count": 82,
   "id": "8879c2a3",
   "metadata": {},
   "outputs": [
    {
     "data": {
      "image/png": "[encoded data removed]",
      "text/plain": [
       "<Figure size 360x360 with 1 Axes>"
      ]
     },
     "metadata": {
      "needs_background": "light"
     },
     "output_type": "display_data"
    }
   ],
   "source": [
    "plt.figure(figsize = (5,5))\n",
    "plt.plot(cumulative_variance_explained)\n",
    "plt.grid()\n",
    "plt.xlabel(\"n components\")\n",
    "plt.ylabel(\"Cumulative Variance Explained\")\n",
    "plt.show()"
   ]
  },
  {
   "cell_type": "code",
   "execution_count": null,
   "id": "1938f023",
   "metadata": {},
   "outputs": [],
   "source": [
    "\n"
   ]
  }
 ],
 "metadata": {
  "kernelspec": {
   "display_name": "Python 3",
   "language": "python",
   "name": "python3"
  },
  "language_info": {
   "codemirror_mode": {
    "name": "ipython",
    "version": 3
   },
   "file_extension": ".py",
   "mimetype": "text/x-python",
   "name": "python",
   "nbconvert_exporter": "python",
   "pygments_lexer": "ipython3",
   "version": "3.8.10"
  }
 },
 "nbformat": 4,
 "nbformat_minor": 5
}
