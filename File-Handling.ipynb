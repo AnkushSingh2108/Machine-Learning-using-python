{
 "cells": [
  {
   "cell_type": "markdown",
   "id": "32e04ec0",
   "metadata": {},
   "source": [
    "Opening a file"
   ]
  },
  {
   "cell_type": "code",
   "execution_count": 109,
   "id": "d7c42b5d",
   "metadata": {},
   "outputs": [],
   "source": [
    "file = open(\"Ankush.txt\")"
   ]
  },
  {
   "cell_type": "markdown",
   "id": "567aed87",
   "metadata": {},
   "source": [
    "Reading a file"
   ]
  },
  {
   "cell_type": "code",
   "execution_count": 121,
   "id": "acc7eeef",
   "metadata": {},
   "outputs": [
    {
     "data": {
      "text/plain": [
       "'Hello Ankush Here!!!\\n'"
      ]
     },
     "execution_count": 121,
     "metadata": {},
     "output_type": "execute_result"
    }
   ],
   "source": [
    "file.readline()"
   ]
  },
  {
   "cell_type": "code",
   "execution_count": 117,
   "id": "87be45a2",
   "metadata": {},
   "outputs": [
    {
     "data": {
      "text/plain": [
       "['Hello Ankush Here!!!\\n',\n",
       " '\\n',\n",
       " 'Yaaa!!\\n',\n",
       " '\\n',\n",
       " '\\n',\n",
       " 'YEah!!!\\n',\n",
       " '\\n',\n",
       " '\\n',\n",
       " 'I am here>^<']"
      ]
     },
     "execution_count": 117,
     "metadata": {},
     "output_type": "execute_result"
    }
   ],
   "source": [
    "file.readlines()"
   ]
  },
  {
   "cell_type": "code",
   "execution_count": 120,
   "id": "a143a55e",
   "metadata": {},
   "outputs": [
    {
     "data": {
      "text/plain": [
       "0"
      ]
     },
     "execution_count": 120,
     "metadata": {},
     "output_type": "execute_result"
    }
   ],
   "source": [
    "file.seek(0)"
   ]
  },
  {
   "cell_type": "markdown",
   "id": "97497869",
   "metadata": {},
   "source": [
    "Closing a file"
   ]
  },
  {
   "cell_type": "code",
   "execution_count": 122,
   "id": "fa996eda",
   "metadata": {},
   "outputs": [],
   "source": [
    "file.close()"
   ]
  },
  {
   "cell_type": "markdown",
   "id": "55ce331e",
   "metadata": {},
   "source": [
    "Writing to a file"
   ]
  },
  {
   "cell_type": "code",
   "execution_count": 25,
   "id": "9394ad8b",
   "metadata": {},
   "outputs": [],
   "source": [
    "file = open(\"writing on a file.txt\",\"w+\")"
   ]
  },
  {
   "cell_type": "code",
   "execution_count": 26,
   "id": "36ac45a0",
   "metadata": {},
   "outputs": [
    {
     "data": {
      "text/plain": [
       "47"
      ]
     },
     "execution_count": 26,
     "metadata": {},
     "output_type": "execute_result"
    }
   ],
   "source": [
    "file.write(\"This is a newly written file from python script\")"
   ]
  },
  {
   "cell_type": "code",
   "execution_count": 27,
   "id": "c4efa0be",
   "metadata": {},
   "outputs": [
    {
     "data": {
      "text/plain": [
       "''"
      ]
     },
     "execution_count": 27,
     "metadata": {},
     "output_type": "execute_result"
    }
   ],
   "source": [
    "file.read()"
   ]
  },
  {
   "cell_type": "code",
   "execution_count": 29,
   "id": "1b2eddd5",
   "metadata": {},
   "outputs": [],
   "source": [
    "file.close()"
   ]
  }
 ],
 "metadata": {
  "kernelspec": {
   "display_name": "Python 3",
   "language": "python",
   "name": "python3"
  },
  "language_info": {
   "codemirror_mode": {
    "name": "ipython",
    "version": 3
   },
   "file_extension": ".py",
   "mimetype": "text/x-python",
   "name": "python",
   "nbconvert_exporter": "python",
   "pygments_lexer": "ipython3",
   "version": "3.8.10"
  }
 },
 "nbformat": 4,
 "nbformat_minor": 5
}
