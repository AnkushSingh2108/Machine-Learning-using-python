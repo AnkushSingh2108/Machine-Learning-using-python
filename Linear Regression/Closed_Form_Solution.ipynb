{
 "cells": [
  {
   "cell_type": "code",
   "execution_count": 1,
   "id": "24c5ac44",
   "metadata": {},
   "outputs": [],
   "source": [
    "import numpy as np\n",
    "import matplotlib.pyplot as plt\n",
    "from sklearn.datasets import make_regression"
   ]
  },
  {
   "cell_type": "code",
   "execution_count": 2,
   "id": "736c4c9d",
   "metadata": {},
   "outputs": [],
   "source": [
    "# Generate Dataset\n",
    "x,y = make_regression(n_samples=400,n_features=1,n_informative=1,noise=1.8,random_state=11)"
   ]
  },
  {
   "cell_type": "code",
   "execution_count": 3,
   "id": "512cd016",
   "metadata": {},
   "outputs": [
    {
     "data": {
      "text/plain": [
       "(400, 1)"
      ]
     },
     "execution_count": 3,
     "metadata": {},
     "output_type": "execute_result"
    }
   ],
   "source": [
    "y = y.reshape((-1,1))\n",
    "y.shape"
   ]
  },
  {
   "cell_type": "code",
   "execution_count": 4,
   "id": "d385c3a2",
   "metadata": {},
   "outputs": [
    {
     "data": {
      "image/png": "[encoded data removed]",
      "text/plain": [
       "<Figure size 432x288 with 1 Axes>"
      ]
     },
     "metadata": {
      "needs_background": "light"
     },
     "output_type": "display_data"
    }
   ],
   "source": [
    "# Normalize\n",
    "x = (x - x.mean())/x.std()\n",
    "\n",
    "\n",
    "#Visualization\n",
    "\n",
    "plt.figure()\n",
    "plt.scatter(x,y)\n",
    "plt.title(\"Normalized Data\")\n",
    "plt.show()"
   ]
  },
  {
   "cell_type": "code",
   "execution_count": 5,
   "id": "c03e96b7",
   "metadata": {},
   "outputs": [
    {
     "name": "stdout",
     "output_type": "stream",
     "text": [
      "(400, 2)\n",
      "[[-0.86881353  1.        ]\n",
      " [ 1.04796658  1.        ]\n",
      " [-0.2019676   1.        ]\n",
      " [-0.34017061  1.        ]\n",
      " [ 0.13317349  1.        ]]\n"
     ]
    }
   ],
   "source": [
    "ones = np.ones((x.shape[0],1))\n",
    "x_ = np.hstack((x,ones))\n",
    "print(x_.shape)\n",
    "print(x_[:5,:])"
   ]
  },
  {
   "cell_type": "code",
   "execution_count": 6,
   "id": "f20c5afb",
   "metadata": {},
   "outputs": [],
   "source": [
    "def predict(x,theta):\n",
    "    return np.dot(x,theta)\n",
    "\n",
    "def getThetaClosedForm(x,y):\n",
    "    \n",
    "    y = np.mat(y)\n",
    "    firstPart = np.dot(x.T,x)\n",
    "    secondPart = np.dot(x.T,y)\n",
    "    \n",
    "    theta = np.linalg.pinv(firstPart)*secondPart\n",
    "    return theta\n",
    "\n"
   ]
  },
  {
   "cell_type": "code",
   "execution_count": 7,
   "id": "f1fc43d9",
   "metadata": {},
   "outputs": [
    {
     "name": "stdout",
     "output_type": "stream",
     "text": [
      "[[19.45877082]\n",
      " [-0.29187892]]\n"
     ]
    }
   ],
   "source": [
    "theta = getThetaClosedForm(x_,y)\n",
    "print(theta)"
   ]
  },
  {
   "cell_type": "code",
   "execution_count": 8,
   "id": "534e2cb3",
   "metadata": {},
   "outputs": [
    {
     "data": {
      "image/png": "[encoded data removed]",
      "text/plain": [
       "<Figure size 432x288 with 1 Axes>"
      ]
     },
     "metadata": {
      "needs_background": "light"
     },
     "output_type": "display_data"
    }
   ],
   "source": [
    "plt.figure()\n",
    "plt.scatter(x,y)\n",
    "plt.plot(x,predict(x_,theta),color = \"red\")\n",
    "plt.title(\"Normalized Data\")\n",
    "plt.show()"
   ]
  },
  {
   "cell_type": "code",
   "execution_count": null,
   "id": "07baa866",
   "metadata": {},
   "outputs": [],
   "source": []
  }
 ],
 "metadata": {
  "kernelspec": {
   "display_name": "Python 3",
   "language": "python",
   "name": "python3"
  },
  "language_info": {
   "codemirror_mode": {
    "name": "ipython",
    "version": 3
   },
   "file_extension": ".py",
   "mimetype": "text/x-python",
   "name": "python",
   "nbconvert_exporter": "python",
   "pygments_lexer": "ipython3",
   "version": "3.8.10"
  }
 },
 "nbformat": 4,
 "nbformat_minor": 5
}
