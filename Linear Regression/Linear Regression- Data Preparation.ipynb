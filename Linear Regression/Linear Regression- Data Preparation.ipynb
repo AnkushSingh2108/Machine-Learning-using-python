{
 "cells": [
  {
   "cell_type": "code",
   "execution_count": 1,
   "id": "f25b11bd",
   "metadata": {},
   "outputs": [],
   "source": [
    "import numpy as np\n",
    "import pandas as pd\n",
    "import matplotlib.pyplot as plt"
   ]
  },
  {
   "cell_type": "markdown",
   "id": "1d8d61fa",
   "metadata": {},
   "source": [
    "### Section 1. Load and Visualize the data\n",
    "- Download\n",
    "- Load\n",
    "- Visualize\n",
    "- Normalisation"
   ]
  },
  {
   "cell_type": "code",
   "execution_count": 2,
   "id": "2ed0e5e2",
   "metadata": {},
   "outputs": [],
   "source": [
    "X = pd.read_csv(\"./Training Data/Linear_X_Train.csv\")\n",
    "Y = pd.read_csv(\"./Training Data/Linear_Y_Train.csv\")"
   ]
  },
  {
   "cell_type": "code",
   "execution_count": 3,
   "id": "f4c4e348",
   "metadata": {},
   "outputs": [
    {
     "data": {
      "text/plain": [
       "((3750, 1), (3750, 1))"
      ]
     },
     "execution_count": 3,
     "metadata": {},
     "output_type": "execute_result"
    }
   ],
   "source": [
    "X.shape , Y.shape"
   ]
  },
  {
   "cell_type": "code",
   "execution_count": 4,
   "id": "354f6600",
   "metadata": {},
   "outputs": [
    {
     "data": {
      "text/plain": [
       "(pandas.core.frame.DataFrame, pandas.core.frame.DataFrame)"
      ]
     },
     "execution_count": 4,
     "metadata": {},
     "output_type": "execute_result"
    }
   ],
   "source": [
    "type(X) , type(Y)"
   ]
  },
  {
   "cell_type": "code",
   "execution_count": 5,
   "id": "d64e11be",
   "metadata": {},
   "outputs": [
    {
     "data": {
      "text/plain": [
       "(numpy.ndarray, numpy.ndarray)"
      ]
     },
     "execution_count": 5,
     "metadata": {},
     "output_type": "execute_result"
    }
   ],
   "source": [
    "# Convert X,Y to numpy arrays\n",
    "x = X.values\n",
    "y = Y.values\n",
    "\n",
    "type(x) , type(y)"
   ]
  },
  {
   "cell_type": "code",
   "execution_count": 6,
   "id": "4f39d6be",
   "metadata": {},
   "outputs": [
    {
     "data": {
      "image/png": "[encoded data removed]",
      "text/plain": [
       "<Figure size 432x288 with 1 Axes>"
      ]
     },
     "metadata": {
      "needs_background": "light"
     },
     "output_type": "display_data"
    }
   ],
   "source": [
    "plt.scatter(X,y)\n",
    "plt.show()"
   ]
  },
  {
   "cell_type": "code",
   "execution_count": 7,
   "id": "e0af5547",
   "metadata": {},
   "outputs": [
    {
     "data": {
      "text/plain": [
       "array([[-0.25352061],\n",
       "       [-0.55541377],\n",
       "       [ 1.07380656],\n",
       "       ...,\n",
       "       [-0.26950343],\n",
       "       [ 1.72730762],\n",
       "       [-0.4575866 ]])"
      ]
     },
     "execution_count": 7,
     "metadata": {},
     "output_type": "execute_result"
    }
   ],
   "source": [
    "# Normalisation\n",
    "\n",
    "u = x.mean()\n",
    "std = x.std()\n",
    "\n",
    "x = (x-u)/std\n",
    "x\n"
   ]
  },
  {
   "cell_type": "code",
   "execution_count": 8,
   "id": "b485c882",
   "metadata": {},
   "outputs": [
    {
     "data": {
      "image/png": "[encoded data removed]",
      "text/plain": [
       "<Figure size 432x288 with 1 Axes>"
      ]
     },
     "metadata": {
      "needs_background": "light"
     },
     "output_type": "display_data"
    }
   ],
   "source": [
    "# Visualisation \n",
    "\n",
    "plt.scatter(X,y)\n",
    "plt.show()"
   ]
  },
  {
   "cell_type": "markdown",
   "id": "43bbe73c",
   "metadata": {},
   "source": [
    "# Section 2 - Linear Regression"
   ]
  },
  {
   "cell_type": "code",
   "execution_count": 9,
   "id": "af488a9b",
   "metadata": {},
   "outputs": [
    {
     "data": {
      "text/plain": [
       "(3750, 1)"
      ]
     },
     "execution_count": 9,
     "metadata": {},
     "output_type": "execute_result"
    }
   ],
   "source": [
    "X.shape"
   ]
  },
  {
   "cell_type": "code",
   "execution_count": 10,
   "id": "f38d77ca",
   "metadata": {},
   "outputs": [],
   "source": [
    "#theta = [theta0,theta1]\n",
    "def hypothesis(x,theta):\n",
    "    y_ = theta[0] + theta[1]*x\n",
    "    return y_\n",
    "\n",
    "\n",
    "def gradient(X,Y,theta):\n",
    "    m = X.shape[0]\n",
    "    grad = np.zeros((2,))\n",
    "    for i in range(m):\n",
    "        y = Y[i]\n",
    "        x = X[i]\n",
    "        y_ = hypothesis(x,theta)\n",
    "        grad[0] += (y_ - y)  # gradient wrt theta0\n",
    "        grad[1] += (y_ - y)*x # gradient wrt theta1    \n",
    "    return grad/m\n",
    "\n",
    "\n",
    "def error(X,Y,theta):\n",
    "    m = x.shape[0]\n",
    "    total_error= 0.0 \n",
    "    for i in range(m):\n",
    "        y_ = hypothesis(X[i],theta)\n",
    "        total_error += (y_ - Y[i])**2\n",
    "    return total_error/m\n",
    "\n",
    "\n",
    "def gradientDescent(x,y,max_steps = 100,learning_rate = 0.1):\n",
    "    theta = np.zeros((2,))\n",
    "    error_list = []\n",
    "    theta_list = []\n",
    "    for i in range(max_steps):\n",
    "        # Compute Grad\n",
    "        grad = gradient(X,Y,theta)\n",
    "        e = error(x.y,theta)\n",
    "        theta_list.append(theta[0],theta[1])\n",
    "        error_list.append(e)\n",
    "        \n",
    "        # Update Theta\n",
    "        theta[0] = theta[0] - learning_rate*grad[0]\n",
    "        theta[1] = theta[1] - learning_rate*grad[1]\n",
    "        \n",
    "    return theta,error_list,theta_list"
   ]
  },
  {
   "cell_type": "code",
   "execution_count": 11,
   "id": "41123cfa",
   "metadata": {},
   "outputs": [
    {
     "ename": "NameError",
     "evalue": "name 'theta_list' is not defined",
     "output_type": "error",
     "traceback": [
      "\u001b[0;31m---------------------------------------------------------------------------\u001b[0m",
      "\u001b[0;31mNameError\u001b[0m                                 Traceback (most recent call last)",
      "\u001b[0;32m<ipython-input-11-3ad223fae2c4>\u001b[0m in \u001b[0;36m<module>\u001b[0;34m\u001b[0m\n\u001b[0;32m----> 1\u001b[0;31m \u001b[0mtheta_list\u001b[0m \u001b[0;34m=\u001b[0m \u001b[0mnp\u001b[0m\u001b[0;34m.\u001b[0m\u001b[0marray\u001b[0m\u001b[0;34m(\u001b[0m\u001b[0mtheta_list\u001b[0m\u001b[0;34m)\u001b[0m\u001b[0;34m\u001b[0m\u001b[0;34m\u001b[0m\u001b[0m\n\u001b[0m\u001b[1;32m      2\u001b[0m \u001b[0;31m# error_list\u001b[0m\u001b[0;34m\u001b[0m\u001b[0;34m\u001b[0m\u001b[0;34m\u001b[0m\u001b[0m\n",
      "\u001b[0;31mNameError\u001b[0m: name 'theta_list' is not defined"
     ]
    }
   ],
   "source": [
    "theta_list = np.array(theta_list)\n",
    "# error_list"
   ]
  },
  {
   "cell_type": "code",
   "execution_count": null,
   "id": "84c4ab35",
   "metadata": {},
   "outputs": [],
   "source": [
    "theta,error_list,theta_list = gradientDescent(X,y)"
   ]
  },
  {
   "cell_type": "markdown",
   "id": "a7d8d544",
   "metadata": {},
   "source": [
    "## Section 4 - Computing Score\n",
    "- Score : R2 (R-Squared) or Coefficient of Determination"
   ]
  },
  {
   "cell_type": "code",
   "execution_count": null,
   "id": "73e8def8",
   "metadata": {},
   "outputs": [],
   "source": [
    "def r2_score(Y,Y_):\n",
    "    # Instead of for loop, np.sum is recommended as it is fast\n",
    "    num = np.sum((Y-Y_)**2)\n",
    "    denom = np.sum((Y - Y.mean())**2)\n",
    "    score = (1 - num/denom)\n",
    "    return score*100"
   ]
  },
  {
   "cell_type": "code",
   "execution_count": null,
   "id": "104bd28c",
   "metadata": {},
   "outputs": [],
   "source": [
    "r2_score(y,y_)"
   ]
  },
  {
   "cell_type": "markdown",
   "id": "5b1bfd49",
   "metadata": {},
   "source": [
    "# Section 5 - Visualizing Loss Function, Gradient Descent, Theta Updates"
   ]
  },
  {
   "cell_type": "code",
   "execution_count": null,
   "id": "f35a2f26",
   "metadata": {},
   "outputs": [],
   "source": [
    "# Loss Actually\n",
    "\n",
    "T0 = np.arange(-50,50,1)\n",
    "T1 = np.arange(40,120,1)\n",
    "\n",
    "T0,T1 = np.meshgrid(T0,T1)\n",
    "J = np.zeros(T0.shape)\n",
    "\n",
    "for i  in range(J.shape[0]):\n",
    "    for j in range(J.shape[1]):\n",
    "        y_ = T1[i,j]*X + T0[i,j]\n",
    "        J[i,j] = np.sum((y-y_)**2)\n",
    "        \n",
    "print(J.shape)"
   ]
  },
  {
   "cell_type": "code",
   "execution_count": null,
   "id": "093ed630",
   "metadata": {
    "scrolled": false
   },
   "outputs": [],
   "source": [
    "fig = plt.figure()\n",
    "axes = fig.gca(projection = '3d')\n",
    "axes.plot_surface(T0,T1,J,cmap = 'rainbow')\n",
    "plt.show()"
   ]
  },
  {
   "cell_type": "code",
   "execution_count": null,
   "id": "5eb48496",
   "metadata": {},
   "outputs": [],
   "source": [
    "# Contour Plot\n",
    "fig = plt.figure()\n",
    "axes = fig.gca(projection = '3d')\n",
    "axes.contour(T0,T1,J,cmap = 'rainbow')\n",
    "plt.show()"
   ]
  },
  {
   "cell_type": "code",
   "execution_count": null,
   "id": "56602ea8",
   "metadata": {},
   "outputs": [],
   "source": [
    " # 2D Contour Plot\n",
    "plt.contour(T0,T1,J)\n",
    "plt.scatter(theta_list[:,0],theta_list[:,1])\n",
    "plt.show()\n"
   ]
  },
  {
   "cell_type": "code",
   "execution_count": null,
   "id": "9099fea9",
   "metadata": {},
   "outputs": [],
   "source": [
    "theta_list\n",
    "np.save(\"Thetalist.npy\",theta_list)"
   ]
  }
 ],
 "metadata": {
  "kernelspec": {
   "display_name": "Python 3",
   "language": "python",
   "name": "python3"
  },
  "language_info": {
   "codemirror_mode": {
    "name": "ipython",
    "version": 3
   },
   "file_extension": ".py",
   "mimetype": "text/x-python",
   "name": "python",
   "nbconvert_exporter": "python",
   "pygments_lexer": "ipython3",
   "version": "3.8.10"
  }
 },
 "nbformat": 4,
 "nbformat_minor": 5
}
