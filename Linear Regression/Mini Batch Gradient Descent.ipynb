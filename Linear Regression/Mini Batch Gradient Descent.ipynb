{
 "cells": [
  {
   "cell_type": "code",
   "execution_count": 1,
   "id": "13e034be",
   "metadata": {},
   "outputs": [],
   "source": [
    "import numpy as np\n",
    "import matplotlib.pyplot as plt\n",
    "from sklearn.datasets import make_regression"
   ]
  },
  {
   "cell_type": "code",
   "execution_count": 2,
   "id": "57c29080",
   "metadata": {},
   "outputs": [],
   "source": [
    "# Get or Create a Dataset\n",
    "X,y = make_regression(n_samples=10000, n_features=20, n_informative=20, noise=10, random_state=1)\n",
    "\n",
    "#Normalization\n",
    "u = np.mean(X,axis =0)\n",
    "std = np.std(X,axis =0)\n",
    "X = (X-u)/std"
   ]
  },
  {
   "cell_type": "code",
   "execution_count": 3,
   "id": "e52a28e4",
   "metadata": {},
   "outputs": [
    {
     "name": "stdout",
     "output_type": "stream",
     "text": [
      "(10000, 21)\n",
      "(10000,)\n"
     ]
    }
   ],
   "source": [
    "# Add a column if 1s for vectorization\n",
    "ones = np.ones((X.shape[0],1))\n",
    "X = np.hstack((ones,X))\n",
    "print(X.shape)\n",
    "print(y.shape)"
   ]
  },
  {
   "cell_type": "code",
   "execution_count": 4,
   "id": "d2e5f83d",
   "metadata": {},
   "outputs": [
    {
     "data": {
      "text/plain": [
       "(numpy.ndarray, numpy.ndarray)"
      ]
     },
     "execution_count": 4,
     "metadata": {},
     "output_type": "execute_result"
    }
   ],
   "source": [
    "type(ones), type(X)"
   ]
  },
  {
   "cell_type": "code",
   "execution_count": 5,
   "id": "f736c170",
   "metadata": {},
   "outputs": [],
   "source": [
    "def hypothesis(X,theta):\n",
    "    return np.dot(X,theta)\n",
    "\n",
    "\n",
    "def error(X,y,theta):\n",
    "    e = 0.0\n",
    "    m = X.shape[0]\n",
    "    y_ = hypothesis(X,theta)\n",
    "    e = np.sum((y - y_)**2)\n",
    "    \n",
    "    return  e/m\n",
    "\n",
    "def gradient(X,y,theta):\n",
    "    y_ = hypothesis(X,theta)\n",
    "    grad = np.dot(X.T,(y - y_))\n",
    "    m = X.shape[0]\n",
    "    return grad/m\n",
    "\n",
    "# Batch Gradient Descent\n",
    "def gradient_descent(X,y,learning_rate = 0.01, max_iters = 300):\n",
    "    n = X.shape[1]\n",
    "    theta = np.zeros((n,))\n",
    "    error_list = []\n",
    "    \n",
    "    for i in range(max_iters):\n",
    "        e = error(X,y,theta)\n",
    "        error_list.append(e)\n",
    "        \n",
    "        #Batch Gradient Descent -> Compute the Gradient wrt entire dataset\n",
    "        grad = gradient(X,y,theta)\n",
    "        theta = theta - learning_rate*grad\n",
    "        return theta, error_list\n",
    "    "
   ]
  },
  {
   "cell_type": "code",
   "execution_count": 6,
   "id": "b405f463",
   "metadata": {},
   "outputs": [
    {
     "ename": "NameError",
     "evalue": "name 'batch_gradient_descent' is not defined",
     "output_type": "error",
     "traceback": [
      "\u001b[0;31m---------------------------------------------------------------------------\u001b[0m",
      "\u001b[0;31mNameError\u001b[0m                                 Traceback (most recent call last)",
      "\u001b[0;32m<ipython-input-6-5160661d37b4>\u001b[0m in \u001b[0;36m<module>\u001b[0;34m\u001b[0m\n\u001b[1;32m      1\u001b[0m \u001b[0;31m# Mini Batch Gradient Descent - 300 Iterations, lr = 0.01\u001b[0m\u001b[0;34m\u001b[0m\u001b[0;34m\u001b[0m\u001b[0;34m\u001b[0m\u001b[0m\n\u001b[0;32m----> 2\u001b[0;31m \u001b[0mtheta\u001b[0m\u001b[0;34m,\u001b[0m\u001b[0merror_list\u001b[0m \u001b[0;34m=\u001b[0m \u001b[0mbatch_gradient_descent\u001b[0m\u001b[0;34m(\u001b[0m\u001b[0mX\u001b[0m\u001b[0;34m,\u001b[0m\u001b[0my\u001b[0m\u001b[0;34m)\u001b[0m\u001b[0;34m\u001b[0m\u001b[0;34m\u001b[0m\u001b[0m\n\u001b[0m\u001b[1;32m      3\u001b[0m \u001b[0;34m\u001b[0m\u001b[0m\n\u001b[1;32m      4\u001b[0m \u001b[0mfinal_error\u001b[0m \u001b[0;34m=\u001b[0m \u001b[0merror_list\u001b[0m\u001b[0;34m[\u001b[0m\u001b[0;34m-\u001b[0m\u001b[0;36m1\u001b[0m\u001b[0;34m]\u001b[0m\u001b[0;34m\u001b[0m\u001b[0;34m\u001b[0m\u001b[0m\n\u001b[1;32m      5\u001b[0m \u001b[0mfinal_error\u001b[0m\u001b[0;34m\u001b[0m\u001b[0;34m\u001b[0m\u001b[0m\n",
      "\u001b[0;31mNameError\u001b[0m: name 'batch_gradient_descent' is not defined"
     ]
    }
   ],
   "source": [
    "# Mini Batch Gradient Descent - 300 Iterations, lr = 0.01\n",
    "theta,error_list = batch_gradient_descent(X,y)\n",
    "\n",
    "final_error = error_list[-1]\n",
    "final_error\n",
    "plt.figure()\n",
    "plt.plot(np.arange(len(error_list)),error_list)\n",
    "plt.show()"
   ]
  },
  {
   "cell_type": "code",
   "execution_count": null,
   "id": "13fabaa0",
   "metadata": {},
   "outputs": [],
   "source": [
    "y.shape"
   ]
  },
  {
   "cell_type": "code",
   "execution_count": null,
   "id": "a7be287b",
   "metadata": {
    "scrolled": true
   },
   "outputs": [],
   "source": [
    "# Batch Gradient Descent - 300 Iterations, lr = 0.01\n",
    "theta,error_list = gradient_descent(X,y)\n",
    "\n",
    "plt.figure()\n",
    "plt.plot(np.arange(len(error_list)),error_list)\n",
    "plt.show()"
   ]
  },
  {
   "cell_type": "code",
   "execution_count": null,
   "id": "2f570bab",
   "metadata": {},
   "outputs": [],
   "source": [
    "final_error = error_list[-1]\n",
    "final_error"
   ]
  },
  {
   "cell_type": "code",
   "execution_count": null,
   "id": "fac47798",
   "metadata": {},
   "outputs": [],
   "source": []
  },
  {
   "cell_type": "code",
   "execution_count": null,
   "id": "29741ea4",
   "metadata": {},
   "outputs": [],
   "source": []
  }
 ],
 "metadata": {
  "kernelspec": {
   "display_name": "Python 3",
   "language": "python",
   "name": "python3"
  },
  "language_info": {
   "codemirror_mode": {
    "name": "ipython",
    "version": 3
   },
   "file_extension": ".py",
   "mimetype": "text/x-python",
   "name": "python",
   "nbconvert_exporter": "python",
   "pygments_lexer": "ipython3",
   "version": "3.8.10"
  }
 },
 "nbformat": 4,
 "nbformat_minor": 5
}
